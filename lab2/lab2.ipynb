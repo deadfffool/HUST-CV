{
 "cells": [
  {
   "cell_type": "code",
   "execution_count": 9,
   "metadata": {},
   "outputs": [],
   "source": [
    "#引入相关包\n",
    "import torch\n",
    "import torchvision\n",
    "from torch.utils.data import DataLoader\n",
    "import torch.nn as nn\n",
    "import torch.nn.functional as F\n",
    "import torch.optim as optim\n",
    "import matplotlib.pyplot as plt\n",
    "from tqdm import tqdm\n"
   ]
  },
  {
   "cell_type": "code",
   "execution_count": 10,
   "metadata": {},
   "outputs": [],
   "source": [
    "#相关参数\n",
    "n_epochs = 10   #训练的轮次\n",
    "batch_size = 64   #batch_size\n",
    "learning_rate = 0.01   #学习率\n",
    "momentum = 0.5     #momentum梯度下降时的超参数\n",
    "log_interval = 10  #画图的记录点"
   ]
  },
  {
   "cell_type": "code",
   "execution_count": 11,
   "metadata": {},
   "outputs": [],
   "source": [
    "#设置训练集和测试集\n",
    "train_loader = torch.utils.data.DataLoader(\n",
    "    torchvision.datasets.MNIST('./data/', train=True, download=True,\n",
    "                            transform=torchvision.transforms.ToTensor(),),\n",
    "    batch_size=batch_size, shuffle=True)\n",
    "\n",
    "test_loader = torch.utils.data.DataLoader(\n",
    "    torchvision.datasets.MNIST('./data/', train=False, download=True,\n",
    "                            transform=torchvision.transforms.ToTensor(),),\n",
    "    batch_size=batch_size, shuffle=True)\n"
   ]
  },
  {
   "cell_type": "code",
   "execution_count": 12,
   "metadata": {},
   "outputs": [],
   "source": [
    "#搭建模型  这里使用的模型是一个具有两个卷积层和两个全连接层的cnn网络\n",
    "class Net(nn.Module):\n",
    "    def __init__(self):\n",
    "        super(Net, self).__init__()\n",
    "        self.conv1 = nn.Conv2d(1, 10, kernel_size=5)  #第一个卷积层 in_channel=1 out_channal=10 卷积核大小为5\n",
    "        self.conv2 = nn.Conv2d(10, 20, kernel_size=5)  #第二个卷积层 in_channel=10 out_channal=20 卷积核大小为5\n",
    "        self.conv2_drop = nn.Dropout2d()\n",
    "        self.fc1 = nn.Linear(320, 50)  #全连接层\n",
    "        self.fc2 = nn.Linear(50, 10)   #全连接层\n",
    "\n",
    "    def forward(self, x):\n",
    "        x = F.relu(F.max_pool2d(self.conv1(x), 2))   #这里使先使用了第一层卷积  然后送入最大池化层  在使用relu激活函数\n",
    "        x = F.relu(F.max_pool2d(self.conv2_drop(self.conv2(x)), 2))   #里使先使用了第二层卷积 然后送入dropout层  然后送入最大池化层  在使用relu激活函数\n",
    "        x = x.view(x.size(0), -1)   #将输入转换为1维  全连接操作\n",
    "        x = F.relu(self.fc1(x))  #传入全连接层\n",
    "        x = F.dropout(x, training=self.training) #再次使用dropout层\n",
    "        x = self.fc2(x)\n",
    "        return F.softmax(x, dim=1)   #进行softmax  其中dim=1表示对每一行使用 softmax\n",
    "\n",
    "network = Net()"
   ]
  },
  {
   "cell_type": "code",
   "execution_count": 13,
   "metadata": {},
   "outputs": [],
   "source": [
    "#梯度优化方式采用SGD，带有momentum\n",
    "optimizer = optim.SGD(network.parameters(), lr=learning_rate, momentum=momentum)\n",
    "\n",
    "\n",
    "#用于之后画图时候展示损失函数的下降过程\n",
    "train_losses = []\n",
    "train_counter = []\n",
    "test_losses = []\n",
    "test_counter = [i * len(train_loader.dataset) for i in range(n_epochs + 1)]\n",
    "\n",
    "loss_f = nn.CrossEntropyLoss()  #这里我们使用交叉熵损失函数\n"
   ]
  },
  {
   "cell_type": "code",
   "execution_count": 14,
   "metadata": {},
   "outputs": [],
   "source": [
    "#训练模型的函数\n",
    "def train(epoch):\n",
    "    loop = tqdm(train_loader, leave=True)\n",
    "    loss_all = 0\n",
    "    network.train()  #表示进入了测试模式\n",
    "    for batch_idx, (data, target) in enumerate(loop):\n",
    "        optimizer.zero_grad()  #旧的梯度清零\n",
    "        output = network(data)  #正向传播\n",
    "        loss = loss_f(output, target)  #计算损失\n",
    "        loss.backward()    #计算梯度\n",
    "        optimizer.step()   #梯度下降\n",
    "        loss_all += loss  #计算dataset的总loss\n",
    "        loop.set_postfix(loss=loss.item())  #画图相关\n",
    "\n",
    "        #每隔一段时间记录下当前的loss以便画图\n",
    "        if batch_idx % log_interval == 0:\n",
    "            train_losses.append(loss.item())\n",
    "            train_counter.append((batch_idx * 64) + ((epoch - 1) * len(train_loader.dataset)))\n",
    "            \n",
    "    torch.save(network.state_dict(), './model.pth')  #保存模型结构参数\n",
    "    torch.save(optimizer.state_dict(), './optimizer.pth')  #保存优化器参数\n",
    "\n",
    "\n",
    "#测试模型的函数\n",
    "def test(epoch):\n",
    "    network.eval()   #表明进入测试模式\n",
    "    test_loss = 0      #测试的总损失\n",
    "    correct = 0         #测试的总正确数量\n",
    "    with torch.no_grad():  #在测试的时候需要取消模型的梯度\n",
    "        for data, target in test_loader:\n",
    "            output = network(data)\n",
    "            test_loss += loss_f(output, target)\n",
    "            pred = output.data.max(1, keepdim=True)[1]\n",
    "            correct += pred.eq(target.data.view_as(pred)).sum()\n",
    "    \n",
    "    test_loss /= (len(test_loader.dataset)/batch_size) \n",
    "    test_losses.append(test_loss.item())\n",
    "    print('Epoch: {},Test set: Avg. loss: {:.4f}, Accuracy: {}/{} ({:.0f}%)\\n'.format(epoch,\n",
    "        test_loss, correct, len(test_loader.dataset),\n",
    "        100. * correct / len(test_loader.dataset)))\n"
   ]
  },
  {
   "cell_type": "code",
   "execution_count": 15,
   "metadata": {},
   "outputs": [
    {
     "name": "stdout",
     "output_type": "stream",
     "text": [
      "Epoch: 0,Test set: Avg. loss: 2.3133, Accuracy: 980/10000 (10%)\n",
      "\n"
     ]
    },
    {
     "name": "stderr",
     "output_type": "stream",
     "text": [
      "100%|██████████| 938/938 [00:13<00:00, 68.20it/s, loss=2.3] \n"
     ]
    },
    {
     "name": "stdout",
     "output_type": "stream",
     "text": [
      "Epoch: 1,Test set: Avg. loss: 2.3083, Accuracy: 980/10000 (10%)\n",
      "\n"
     ]
    },
    {
     "name": "stderr",
     "output_type": "stream",
     "text": [
      "100%|██████████| 938/938 [00:13<00:00, 70.73it/s, loss=2.1] \n"
     ]
    },
    {
     "name": "stdout",
     "output_type": "stream",
     "text": [
      "Epoch: 2,Test set: Avg. loss: 2.1287, Accuracy: 3745/10000 (37%)\n",
      "\n"
     ]
    },
    {
     "name": "stderr",
     "output_type": "stream",
     "text": [
      "100%|██████████| 938/938 [00:13<00:00, 70.93it/s, loss=1.89]\n"
     ]
    },
    {
     "name": "stdout",
     "output_type": "stream",
     "text": [
      "Epoch: 3,Test set: Avg. loss: 1.7400, Accuracy: 7742/10000 (77%)\n",
      "\n"
     ]
    },
    {
     "name": "stderr",
     "output_type": "stream",
     "text": [
      "100%|██████████| 938/938 [00:14<00:00, 66.82it/s, loss=1.71]\n"
     ]
    },
    {
     "name": "stdout",
     "output_type": "stream",
     "text": [
      "Epoch: 4,Test set: Avg. loss: 1.6592, Accuracy: 8200/10000 (82%)\n",
      "\n"
     ]
    },
    {
     "name": "stderr",
     "output_type": "stream",
     "text": [
      "100%|██████████| 938/938 [00:13<00:00, 67.96it/s, loss=1.86]\n"
     ]
    },
    {
     "name": "stdout",
     "output_type": "stream",
     "text": [
      "Epoch: 5,Test set: Avg. loss: 1.6275, Accuracy: 8455/10000 (85%)\n",
      "\n"
     ]
    },
    {
     "name": "stderr",
     "output_type": "stream",
     "text": [
      "100%|██████████| 938/938 [00:14<00:00, 66.91it/s, loss=1.63]\n"
     ]
    },
    {
     "name": "stdout",
     "output_type": "stream",
     "text": [
      "Epoch: 6,Test set: Avg. loss: 1.5727, Accuracy: 9004/10000 (90%)\n",
      "\n"
     ]
    },
    {
     "name": "stderr",
     "output_type": "stream",
     "text": [
      "100%|██████████| 938/938 [00:13<00:00, 67.98it/s, loss=1.55]\n"
     ]
    },
    {
     "name": "stdout",
     "output_type": "stream",
     "text": [
      "Epoch: 7,Test set: Avg. loss: 1.5601, Accuracy: 9118/10000 (91%)\n",
      "\n"
     ]
    },
    {
     "name": "stderr",
     "output_type": "stream",
     "text": [
      "100%|██████████| 938/938 [00:14<00:00, 64.93it/s, loss=1.59]\n"
     ]
    },
    {
     "name": "stdout",
     "output_type": "stream",
     "text": [
      "Epoch: 8,Test set: Avg. loss: 1.5566, Accuracy: 9138/10000 (91%)\n",
      "\n"
     ]
    },
    {
     "name": "stderr",
     "output_type": "stream",
     "text": [
      "100%|██████████| 938/938 [00:13<00:00, 67.11it/s, loss=1.73]\n"
     ]
    },
    {
     "name": "stdout",
     "output_type": "stream",
     "text": [
      "Epoch: 9,Test set: Avg. loss: 1.5445, Accuracy: 9251/10000 (93%)\n",
      "\n"
     ]
    },
    {
     "name": "stderr",
     "output_type": "stream",
     "text": [
      "100%|██████████| 938/938 [00:14<00:00, 66.02it/s, loss=1.69]\n"
     ]
    },
    {
     "name": "stdout",
     "output_type": "stream",
     "text": [
      "Epoch: 10,Test set: Avg. loss: 1.5406, Accuracy: 9297/10000 (93%)\n",
      "\n"
     ]
    }
   ],
   "source": [
    "test(0)\n",
    "#开始训练\n",
    "for epoch in range(1, n_epochs + 1):\n",
    "    train(epoch) \n",
    "    test(epoch)"
   ]
  },
  {
   "cell_type": "code",
   "execution_count": 16,
   "metadata": {},
   "outputs": [
    {
     "data": {
      "image/png": "[encoded data removed]",
      "text/plain": [
       "<Figure size 640x480 with 1 Axes>"
      ]
     },
     "metadata": {},
     "output_type": "display_data"
    }
   ],
   "source": [
    "fig = plt.figure()\n",
    "plt.plot(train_counter, train_losses, color='blue')\n",
    "plt.scatter(test_counter, test_losses, color='red')\n",
    "plt.legend(['Train Loss', 'Test Loss'], loc='upper right')\n",
    "plt.xlabel('number of training examples seen')\n",
    "plt.ylabel('negative log likelihood loss')\n",
    "plt.show()"
   ]
  },
  {
   "cell_type": "code",
   "execution_count": 17,
   "metadata": {},
   "outputs": [
    {
     "data": {
      "image/png": "[encoded data removed]",
      "text/plain": [
       "<Figure size 640x480 with 6 Axes>"
      ]
     },
     "metadata": {},
     "output_type": "display_data"
    }
   ],
   "source": [
    "#这里是验证的相关代码  可以直观的展示我们的预测结果  可以看到相关的结果预测的还是非常的准确的\n",
    "examples = enumerate(test_loader)\n",
    "batch_idx, (example_data, example_targets) = next(examples)\n",
    "with torch.no_grad():\n",
    "    output = network(example_data)\n",
    "fig = plt.figure()\n",
    "for i in range(6):\n",
    "    plt.subplot(2, 3, i + 1)\n",
    "    plt.tight_layout()\n",
    "    plt.imshow(example_data[i][0], cmap='gray', interpolation='none')\n",
    "    plt.title(\"Prediction: {}\".format(output.data.max(1, keepdim=True)[1][i].item()))\n",
    "    plt.xticks([])\n",
    "    plt.yticks([])\n",
    "plt.show()"
   ]
  }
 ],
 "metadata": {
  "kernelspec": {
   "display_name": "Python 3.8.12 ('pytorch')",
   "language": "python",
   "name": "python3"
  },
  "language_info": {
   "codemirror_mode": {
    "name": "ipython",
    "version": 3
   },
   "file_extension": ".py",
   "mimetype": "text/x-python",
   "name": "python",
   "nbconvert_exporter": "python",
   "pygments_lexer": "ipython3",
   "version": "3.9.16"
  },
  "orig_nbformat": 4,
  "vscode": {
   "interpreter": {
    "hash": "f38a9df686f17d184ba9a9def2c8287894d774a7be09f59b222696b272b9c8cc"
   }
  }
 },
 "nbformat": 4,
 "nbformat_minor": 2
}
