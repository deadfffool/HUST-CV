{
 "cells": [
  {
   "cell_type": "code",
   "execution_count": 32,
   "metadata": {},
   "outputs": [],
   "source": [
    "#引入相关包\n",
    "import torch\n",
    "import torchvision\n",
    "from torch.utils.data import DataLoader\n",
    "import torch.nn as nn\n",
    "import torch.nn.functional as F\n",
    "import torch.optim as optim\n",
    "import matplotlib.pyplot as plt\n",
    "from tqdm import tqdm\n"
   ]
  },
  {
   "cell_type": "code",
   "execution_count": 33,
   "metadata": {},
   "outputs": [],
   "source": [
    "#相关参数\n",
    "n_epochs = 30   #训练的轮次\n",
    "batch_size = 64   #batch_size\n",
    "learning_rate = 0.01   #学习率\n",
    "momentum = 0.5     #momentum梯度下降时的超参数\n",
    "log_interval = 10  #画图的记录点"
   ]
  },
  {
   "cell_type": "code",
   "execution_count": 34,
   "metadata": {},
   "outputs": [],
   "source": [
    "#设置训练集和测试集\n",
    "train_loader = torch.utils.data.DataLoader(\n",
    "    torchvision.datasets.MNIST('./data/', train=True, download=True,\n",
    "                            transform=torchvision.transforms.ToTensor(),),\n",
    "    batch_size=batch_size, shuffle=True)\n",
    "\n",
    "test_loader = torch.utils.data.DataLoader(\n",
    "    torchvision.datasets.MNIST('./data/', train=False, download=True,\n",
    "                            transform=torchvision.transforms.ToTensor(),),\n",
    "    batch_size=batch_size, shuffle=True)\n"
   ]
  },
  {
   "cell_type": "code",
   "execution_count": 35,
   "metadata": {},
   "outputs": [],
   "source": [
    "\n",
    "class ResidualBlock(nn.Module):\n",
    "    def __init__(self, channels):\n",
    "        super(ResidualBlock, self).__init__()\n",
    "        self.channels = channels\n",
    "        self.conv1 = nn.Conv2d(channels, channels,\n",
    "        kernel_size=3, padding=1)\n",
    "        self.conv2 = nn.Conv2d(channels, channels,\n",
    "        kernel_size=3, padding=1)\n",
    "    def forward(self, x):\n",
    "        y = F.relu(self.conv1(x))\n",
    "        y = self.conv2(y)\n",
    "        return F.relu(x + y)"
   ]
  },
  {
   "cell_type": "code",
   "execution_count": 36,
   "metadata": {},
   "outputs": [],
   "source": [
    "class Net(nn.Module):\n",
    "    def __init__(self):\n",
    "        super(Net, self).__init__()\n",
    "        self.conv1 = nn.Conv2d(1, 10, kernel_size=5)  \n",
    "        self.conv2 = nn.Conv2d(10, 20, kernel_size=5) \n",
    "        self.conv2_drop = nn.Dropout2d()\n",
    "        self.rblock1 = ResidualBlock(10)\n",
    "        self.rblock2 = ResidualBlock(20)\n",
    "        self.fc1 = nn.Linear(320, 50) \n",
    "        self.fc2 = nn.Linear(50, 10)  \n",
    "\n",
    "    def forward(self, x):\n",
    "        x = F.relu(F.max_pool2d(self.conv1(x), 2)) \n",
    "        x = self.rblock1(x)\n",
    "        x = F.relu(F.max_pool2d(self.conv2_drop(self.conv2(x)), 2))  \n",
    "        x = self.rblock2(x)\n",
    "        x = x.view(x.size(0), -1)  \n",
    "        x = F.relu(self.fc1(x)) \n",
    "        x = F.dropout(x, training=self.training)\n",
    "        x = self.fc2(x)\n",
    "        return F.softmax(x, dim=1) \n",
    "\n",
    "network = Net()"
   ]
  },
  {
   "cell_type": "code",
   "execution_count": 37,
   "metadata": {},
   "outputs": [],
   "source": [
    "class Net2(nn.Module):\n",
    "    def __init__(self):\n",
    "        super(Net2, self).__init__()\n",
    "        self.conv1 = nn.Conv2d(1, 10, kernel_size=5)  \n",
    "        self.conv2 = nn.Conv2d(10, 20, kernel_size=5) \n",
    "        self.rblock1 = ResidualBlock(10)\n",
    "        self.rblock2 = ResidualBlock(20)\n",
    "        self.fc1 = nn.Linear(320, 50) \n",
    "        self.fc2 = nn.Linear(50, 10)  \n",
    "\n",
    "    def forward(self, x):\n",
    "        x = F.relu(F.max_pool2d(self.conv1(x), 2)) \n",
    "        x = self.rblock1(x)\n",
    "        x = F.relu(F.max_pool2d(self.conv2(x), 2))  \n",
    "        x = self.rblock2(x)\n",
    "        x = x.view(x.size(0), -1)  \n",
    "        x = F.relu(self.fc1(x)) \n",
    "        x = self.fc2(x)\n",
    "        return F.softmax(x, dim=1) \n",
    "\n",
    "# network = Net2()"
   ]
  },
  {
   "cell_type": "code",
   "execution_count": 38,
   "metadata": {},
   "outputs": [],
   "source": [
    "#梯度优化方式采用SGD，带有momentum\n",
    "optimizer = optim.SGD(network.parameters(), lr=learning_rate, momentum=momentum)\n",
    "\n",
    "#用于之后画图时候展示损失函数的下降过程\n",
    "train_losses = []\n",
    "train_counter = []\n",
    "test_losses = []\n",
    "test_counter = [i * len(train_loader.dataset) for i in range(n_epochs + 1)]\n",
    "\n",
    "loss_f = nn.CrossEntropyLoss()  #这里我们使用交叉熵损失函数\n"
   ]
  },
  {
   "cell_type": "code",
   "execution_count": 39,
   "metadata": {},
   "outputs": [],
   "source": [
    "#训练模型的函数\n",
    "def train(epoch):\n",
    "    loop = tqdm(train_loader, leave=True)\n",
    "    loss_all = 0\n",
    "    network.train()  #表示进入了测试模式\n",
    "    for batch_idx, (data, target) in enumerate(loop):\n",
    "        optimizer.zero_grad()  #旧的梯度清零\n",
    "        output = network(data)  #正向传播\n",
    "        loss = loss_f(output, target)  #计算损失\n",
    "        loss.backward()    #计算梯度\n",
    "        optimizer.step()   #梯度下降\n",
    "        loss_all += loss  #计算dataset的总loss\n",
    "        loop.set_postfix(loss=loss.item())  #画图相关\n",
    "\n",
    "        #每隔一段时间记录下当前的loss以便画图\n",
    "        if batch_idx % log_interval == 0:\n",
    "            train_losses.append(loss.item())\n",
    "            train_counter.append((batch_idx * 64) + ((epoch - 1) * len(train_loader.dataset)))\n",
    "\n",
    "#测试模型的函数\n",
    "def test(epoch):\n",
    "    network.eval()   #表明进入测试模式\n",
    "    test_loss = 0      #测试的总损失\n",
    "    correct_all = 0         #测试的总正确数量\n",
    "    correct = [0] * 10  # 每个数字类别的正确数量\n",
    "    count = [0] * 10  # 每个数字类别的样本数量\n",
    "    with torch.no_grad():  #在测试的时候需要取消模型的梯度\n",
    "        for data, target in test_loader:\n",
    "            output = network(data)\n",
    "            test_loss += loss_f(output, target)\n",
    "            pred = output.data.max(1, keepdim=True)[1].squeeze(1)\n",
    "            target = target.data.view_as(pred)\n",
    "            correct_all += pred.eq(target).sum()\n",
    "            for i in range(len(target)):\n",
    "                count[target[i]]+=1\n",
    "                if target[i]==pred[i]:\n",
    "                    correct[target[i]]+=1\n",
    "\n",
    "            \n",
    "\n",
    "    test_loss /= (len(test_loader.dataset)/batch_size) \n",
    "    test_losses.append(test_loss.item())\n",
    "    print('Epoch: {},Test set: Avg. loss: {:.4f}, Accuracy: {}/{} ({:.0f}%)\\n'.format(epoch,test_loss, correct_all, len(test_loader.dataset),100. * correct_all / len(test_loader.dataset)))\n",
    "    for i in range(10):\n",
    "        accuracy = 100. * correct[i] / count[i]\n",
    "        print('Digit {}: Accuracy: {}/{} ({:.0f}%)'.format(i, correct[i], count[i], accuracy) ,end=None)\n",
    "    \n",
    "\n",
    "\n",
    "\n",
    "\n"
   ]
  },
  {
   "cell_type": "code",
   "execution_count": 40,
   "metadata": {},
   "outputs": [
    {
     "name": "stdout",
     "output_type": "stream",
     "text": [
      "Epoch: 0,Test set: Avg. loss: 2.3137, Accuracy: 987/10000 (10%)\n",
      "\n",
      "Digit 0: Accuracy: 0/980 (0%)\n",
      "Digit 1: Accuracy: 0/1135 (0%)\n",
      "Digit 2: Accuracy: 0/1032 (0%)\n",
      "Digit 3: Accuracy: 0/1010 (0%)\n",
      "Digit 4: Accuracy: 0/982 (0%)\n",
      "Digit 5: Accuracy: 0/892 (0%)\n",
      "Digit 6: Accuracy: 16/958 (2%)\n",
      "Digit 7: Accuracy: 0/1028 (0%)\n",
      "Digit 8: Accuracy: 971/974 (100%)\n",
      "Digit 9: Accuracy: 0/1009 (0%)\n"
     ]
    }
   ],
   "source": [
    "test(0)\n",
    "#开始训练\n"
   ]
  },
  {
   "cell_type": "code",
   "execution_count": 41,
   "metadata": {},
   "outputs": [
    {
     "name": "stderr",
     "output_type": "stream",
     "text": [
      "100%|██████████| 938/938 [00:33<00:00, 28.12it/s, loss=2.3] \n"
     ]
    },
    {
     "name": "stdout",
     "output_type": "stream",
     "text": [
      "Epoch: 1,Test set: Avg. loss: 2.3126, Accuracy: 1256/10000 (13%)\n",
      "\n",
      "Digit 0: Accuracy: 0/980 (0%)\n",
      "Digit 1: Accuracy: 0/1135 (0%)\n",
      "Digit 2: Accuracy: 0/1032 (0%)\n",
      "Digit 3: Accuracy: 3/1010 (0%)\n",
      "Digit 4: Accuracy: 0/982 (0%)\n",
      "Digit 5: Accuracy: 0/892 (0%)\n",
      "Digit 6: Accuracy: 312/958 (33%)\n",
      "Digit 7: Accuracy: 0/1028 (0%)\n",
      "Digit 8: Accuracy: 941/974 (97%)\n",
      "Digit 9: Accuracy: 0/1009 (0%)\n"
     ]
    },
    {
     "name": "stderr",
     "output_type": "stream",
     "text": [
      "100%|██████████| 938/938 [00:32<00:00, 28.82it/s, loss=2.3] \n"
     ]
    },
    {
     "name": "stdout",
     "output_type": "stream",
     "text": [
      "Epoch: 2,Test set: Avg. loss: 2.3096, Accuracy: 2643/10000 (26%)\n",
      "\n",
      "Digit 0: Accuracy: 0/980 (0%)\n",
      "Digit 1: Accuracy: 1130/1135 (100%)\n",
      "Digit 2: Accuracy: 4/1032 (0%)\n",
      "Digit 3: Accuracy: 750/1010 (74%)\n",
      "Digit 4: Accuracy: 4/982 (0%)\n",
      "Digit 5: Accuracy: 0/892 (0%)\n",
      "Digit 6: Accuracy: 494/958 (52%)\n",
      "Digit 7: Accuracy: 0/1028 (0%)\n",
      "Digit 8: Accuracy: 261/974 (27%)\n",
      "Digit 9: Accuracy: 0/1009 (0%)\n"
     ]
    },
    {
     "name": "stderr",
     "output_type": "stream",
     "text": [
      "100%|██████████| 938/938 [00:31<00:00, 29.76it/s, loss=2.29]\n"
     ]
    },
    {
     "name": "stdout",
     "output_type": "stream",
     "text": [
      "Epoch: 3,Test set: Avg. loss: 2.2319, Accuracy: 3884/10000 (39%)\n",
      "\n",
      "Digit 0: Accuracy: 907/980 (93%)\n",
      "Digit 1: Accuracy: 1130/1135 (100%)\n",
      "Digit 2: Accuracy: 53/1032 (5%)\n",
      "Digit 3: Accuracy: 717/1010 (71%)\n",
      "Digit 4: Accuracy: 383/982 (39%)\n",
      "Digit 5: Accuracy: 0/892 (0%)\n",
      "Digit 6: Accuracy: 429/958 (45%)\n",
      "Digit 7: Accuracy: 0/1028 (0%)\n",
      "Digit 8: Accuracy: 0/974 (0%)\n",
      "Digit 9: Accuracy: 265/1009 (26%)\n"
     ]
    },
    {
     "name": "stderr",
     "output_type": "stream",
     "text": [
      "100%|██████████| 938/938 [00:30<00:00, 30.64it/s, loss=1.88]\n"
     ]
    },
    {
     "name": "stdout",
     "output_type": "stream",
     "text": [
      "Epoch: 4,Test set: Avg. loss: 1.6778, Accuracy: 7988/10000 (80%)\n",
      "\n",
      "Digit 0: Accuracy: 919/980 (94%)\n",
      "Digit 1: Accuracy: 1113/1135 (98%)\n",
      "Digit 2: Accuracy: 902/1032 (87%)\n",
      "Digit 3: Accuracy: 827/1010 (82%)\n",
      "Digit 4: Accuracy: 842/982 (86%)\n",
      "Digit 5: Accuracy: 0/892 (0%)\n",
      "Digit 6: Accuracy: 911/958 (95%)\n",
      "Digit 7: Accuracy: 945/1028 (92%)\n",
      "Digit 8: Accuracy: 735/974 (75%)\n",
      "Digit 9: Accuracy: 794/1009 (79%)\n"
     ]
    },
    {
     "name": "stderr",
     "output_type": "stream",
     "text": [
      "100%|██████████| 938/938 [00:30<00:00, 30.89it/s, loss=1.64]\n"
     ]
    },
    {
     "name": "stdout",
     "output_type": "stream",
     "text": [
      "Epoch: 5,Test set: Avg. loss: 1.5720, Accuracy: 8970/10000 (90%)\n",
      "\n",
      "Digit 0: Accuracy: 960/980 (98%)\n",
      "Digit 1: Accuracy: 1113/1135 (98%)\n",
      "Digit 2: Accuracy: 926/1032 (90%)\n",
      "Digit 3: Accuracy: 891/1010 (88%)\n",
      "Digit 4: Accuracy: 861/982 (88%)\n",
      "Digit 5: Accuracy: 696/892 (78%)\n",
      "Digit 6: Accuracy: 891/958 (93%)\n",
      "Digit 7: Accuracy: 924/1028 (90%)\n",
      "Digit 8: Accuracy: 821/974 (84%)\n",
      "Digit 9: Accuracy: 887/1009 (88%)\n"
     ]
    },
    {
     "name": "stderr",
     "output_type": "stream",
     "text": [
      "100%|██████████| 938/938 [00:30<00:00, 30.59it/s, loss=1.76]\n"
     ]
    },
    {
     "name": "stdout",
     "output_type": "stream",
     "text": [
      "Epoch: 6,Test set: Avg. loss: 1.5591, Accuracy: 9111/10000 (91%)\n",
      "\n",
      "Digit 0: Accuracy: 961/980 (98%)\n",
      "Digit 1: Accuracy: 1112/1135 (98%)\n",
      "Digit 2: Accuracy: 922/1032 (89%)\n",
      "Digit 3: Accuracy: 889/1010 (88%)\n",
      "Digit 4: Accuracy: 944/982 (96%)\n",
      "Digit 5: Accuracy: 804/892 (90%)\n",
      "Digit 6: Accuracy: 901/958 (94%)\n",
      "Digit 7: Accuracy: 924/1028 (90%)\n",
      "Digit 8: Accuracy: 845/974 (87%)\n",
      "Digit 9: Accuracy: 809/1009 (80%)\n"
     ]
    },
    {
     "name": "stderr",
     "output_type": "stream",
     "text": [
      "100%|██████████| 938/938 [00:30<00:00, 30.68it/s, loss=1.69]\n"
     ]
    },
    {
     "name": "stdout",
     "output_type": "stream",
     "text": [
      "Epoch: 7,Test set: Avg. loss: 1.5426, Accuracy: 9272/10000 (93%)\n",
      "\n",
      "Digit 0: Accuracy: 956/980 (98%)\n",
      "Digit 1: Accuracy: 1113/1135 (98%)\n",
      "Digit 2: Accuracy: 920/1032 (89%)\n",
      "Digit 3: Accuracy: 912/1010 (90%)\n",
      "Digit 4: Accuracy: 920/982 (94%)\n",
      "Digit 5: Accuracy: 819/892 (92%)\n",
      "Digit 6: Accuracy: 913/958 (95%)\n",
      "Digit 7: Accuracy: 941/1028 (92%)\n",
      "Digit 8: Accuracy: 883/974 (91%)\n",
      "Digit 9: Accuracy: 895/1009 (89%)\n"
     ]
    },
    {
     "name": "stderr",
     "output_type": "stream",
     "text": [
      "100%|██████████| 938/938 [00:30<00:00, 30.66it/s, loss=1.65]\n"
     ]
    },
    {
     "name": "stdout",
     "output_type": "stream",
     "text": [
      "Epoch: 8,Test set: Avg. loss: 1.5385, Accuracy: 9309/10000 (93%)\n",
      "\n",
      "Digit 0: Accuracy: 964/980 (98%)\n",
      "Digit 1: Accuracy: 1115/1135 (98%)\n",
      "Digit 2: Accuracy: 940/1032 (91%)\n",
      "Digit 3: Accuracy: 917/1010 (91%)\n",
      "Digit 4: Accuracy: 938/982 (96%)\n",
      "Digit 5: Accuracy: 798/892 (89%)\n",
      "Digit 6: Accuracy: 920/958 (96%)\n",
      "Digit 7: Accuracy: 952/1028 (93%)\n",
      "Digit 8: Accuracy: 872/974 (90%)\n",
      "Digit 9: Accuracy: 893/1009 (89%)\n"
     ]
    },
    {
     "name": "stderr",
     "output_type": "stream",
     "text": [
      "100%|██████████| 938/938 [00:31<00:00, 29.99it/s, loss=1.58]\n"
     ]
    },
    {
     "name": "stdout",
     "output_type": "stream",
     "text": [
      "Epoch: 9,Test set: Avg. loss: 1.5265, Accuracy: 9416/10000 (94%)\n",
      "\n",
      "Digit 0: Accuracy: 965/980 (98%)\n",
      "Digit 1: Accuracy: 1118/1135 (99%)\n",
      "Digit 2: Accuracy: 977/1032 (95%)\n",
      "Digit 3: Accuracy: 930/1010 (92%)\n",
      "Digit 4: Accuracy: 939/982 (96%)\n",
      "Digit 5: Accuracy: 832/892 (93%)\n",
      "Digit 6: Accuracy: 911/958 (95%)\n",
      "Digit 7: Accuracy: 970/1028 (94%)\n",
      "Digit 8: Accuracy: 866/974 (89%)\n",
      "Digit 9: Accuracy: 908/1009 (90%)\n"
     ]
    },
    {
     "name": "stderr",
     "output_type": "stream",
     "text": [
      "100%|██████████| 938/938 [00:31<00:00, 29.99it/s, loss=1.59]\n"
     ]
    },
    {
     "name": "stdout",
     "output_type": "stream",
     "text": [
      "Epoch: 10,Test set: Avg. loss: 1.5261, Accuracy: 9423/10000 (94%)\n",
      "\n",
      "Digit 0: Accuracy: 967/980 (99%)\n",
      "Digit 1: Accuracy: 1117/1135 (98%)\n",
      "Digit 2: Accuracy: 977/1032 (95%)\n",
      "Digit 3: Accuracy: 923/1010 (91%)\n",
      "Digit 4: Accuracy: 941/982 (96%)\n",
      "Digit 5: Accuracy: 843/892 (95%)\n",
      "Digit 6: Accuracy: 920/958 (96%)\n",
      "Digit 7: Accuracy: 970/1028 (94%)\n",
      "Digit 8: Accuracy: 887/974 (91%)\n",
      "Digit 9: Accuracy: 878/1009 (87%)\n"
     ]
    },
    {
     "name": "stderr",
     "output_type": "stream",
     "text": [
      "100%|██████████| 938/938 [00:30<00:00, 30.45it/s, loss=1.59]\n"
     ]
    },
    {
     "name": "stdout",
     "output_type": "stream",
     "text": [
      "Epoch: 11,Test set: Avg. loss: 1.5238, Accuracy: 9442/10000 (94%)\n",
      "\n",
      "Digit 0: Accuracy: 966/980 (99%)\n",
      "Digit 1: Accuracy: 1117/1135 (98%)\n",
      "Digit 2: Accuracy: 965/1032 (94%)\n",
      "Digit 3: Accuracy: 943/1010 (93%)\n",
      "Digit 4: Accuracy: 948/982 (97%)\n",
      "Digit 5: Accuracy: 825/892 (92%)\n",
      "Digit 6: Accuracy: 923/958 (96%)\n",
      "Digit 7: Accuracy: 964/1028 (94%)\n",
      "Digit 8: Accuracy: 888/974 (91%)\n",
      "Digit 9: Accuracy: 903/1009 (89%)\n"
     ]
    },
    {
     "name": "stderr",
     "output_type": "stream",
     "text": [
      "100%|██████████| 938/938 [00:30<00:00, 30.49it/s, loss=1.6] \n"
     ]
    },
    {
     "name": "stdout",
     "output_type": "stream",
     "text": [
      "Epoch: 12,Test set: Avg. loss: 1.5193, Accuracy: 9494/10000 (95%)\n",
      "\n",
      "Digit 0: Accuracy: 971/980 (99%)\n",
      "Digit 1: Accuracy: 1114/1135 (98%)\n",
      "Digit 2: Accuracy: 984/1032 (95%)\n",
      "Digit 3: Accuracy: 946/1010 (94%)\n",
      "Digit 4: Accuracy: 955/982 (97%)\n",
      "Digit 5: Accuracy: 841/892 (94%)\n",
      "Digit 6: Accuracy: 914/958 (95%)\n",
      "Digit 7: Accuracy: 978/1028 (95%)\n",
      "Digit 8: Accuracy: 884/974 (91%)\n",
      "Digit 9: Accuracy: 907/1009 (90%)\n"
     ]
    },
    {
     "name": "stderr",
     "output_type": "stream",
     "text": [
      "100%|██████████| 938/938 [00:30<00:00, 30.65it/s, loss=1.62]\n"
     ]
    },
    {
     "name": "stdout",
     "output_type": "stream",
     "text": [
      "Epoch: 13,Test set: Avg. loss: 1.5177, Accuracy: 9502/10000 (95%)\n",
      "\n",
      "Digit 0: Accuracy: 961/980 (98%)\n",
      "Digit 1: Accuracy: 1115/1135 (98%)\n",
      "Digit 2: Accuracy: 991/1032 (96%)\n",
      "Digit 3: Accuracy: 946/1010 (94%)\n",
      "Digit 4: Accuracy: 948/982 (97%)\n",
      "Digit 5: Accuracy: 848/892 (95%)\n",
      "Digit 6: Accuracy: 935/958 (98%)\n",
      "Digit 7: Accuracy: 956/1028 (93%)\n",
      "Digit 8: Accuracy: 886/974 (91%)\n",
      "Digit 9: Accuracy: 916/1009 (91%)\n"
     ]
    },
    {
     "name": "stderr",
     "output_type": "stream",
     "text": [
      "100%|██████████| 938/938 [00:31<00:00, 29.95it/s, loss=1.56]\n"
     ]
    },
    {
     "name": "stdout",
     "output_type": "stream",
     "text": [
      "Epoch: 14,Test set: Avg. loss: 1.5152, Accuracy: 9530/10000 (95%)\n",
      "\n",
      "Digit 0: Accuracy: 965/980 (98%)\n",
      "Digit 1: Accuracy: 1118/1135 (99%)\n",
      "Digit 2: Accuracy: 988/1032 (96%)\n",
      "Digit 3: Accuracy: 960/1010 (95%)\n",
      "Digit 4: Accuracy: 948/982 (97%)\n",
      "Digit 5: Accuracy: 844/892 (95%)\n",
      "Digit 6: Accuracy: 927/958 (97%)\n",
      "Digit 7: Accuracy: 949/1028 (92%)\n",
      "Digit 8: Accuracy: 886/974 (91%)\n",
      "Digit 9: Accuracy: 945/1009 (94%)\n"
     ]
    },
    {
     "name": "stderr",
     "output_type": "stream",
     "text": [
      "100%|██████████| 938/938 [00:31<00:00, 29.89it/s, loss=1.52]\n"
     ]
    },
    {
     "name": "stdout",
     "output_type": "stream",
     "text": [
      "Epoch: 15,Test set: Avg. loss: 1.5104, Accuracy: 9584/10000 (96%)\n",
      "\n",
      "Digit 0: Accuracy: 967/980 (99%)\n",
      "Digit 1: Accuracy: 1119/1135 (99%)\n",
      "Digit 2: Accuracy: 985/1032 (95%)\n",
      "Digit 3: Accuracy: 950/1010 (94%)\n",
      "Digit 4: Accuracy: 945/982 (96%)\n",
      "Digit 5: Accuracy: 861/892 (97%)\n",
      "Digit 6: Accuracy: 922/958 (96%)\n",
      "Digit 7: Accuracy: 983/1028 (96%)\n",
      "Digit 8: Accuracy: 916/974 (94%)\n",
      "Digit 9: Accuracy: 936/1009 (93%)\n"
     ]
    },
    {
     "name": "stderr",
     "output_type": "stream",
     "text": [
      "100%|██████████| 938/938 [00:31<00:00, 30.07it/s, loss=1.56]\n"
     ]
    },
    {
     "name": "stdout",
     "output_type": "stream",
     "text": [
      "Epoch: 16,Test set: Avg. loss: 1.5126, Accuracy: 9562/10000 (96%)\n",
      "\n",
      "Digit 0: Accuracy: 971/980 (99%)\n",
      "Digit 1: Accuracy: 1107/1135 (98%)\n",
      "Digit 2: Accuracy: 991/1032 (96%)\n",
      "Digit 3: Accuracy: 929/1010 (92%)\n",
      "Digit 4: Accuracy: 940/982 (96%)\n",
      "Digit 5: Accuracy: 864/892 (97%)\n",
      "Digit 6: Accuracy: 929/958 (97%)\n",
      "Digit 7: Accuracy: 966/1028 (94%)\n",
      "Digit 8: Accuracy: 915/974 (94%)\n",
      "Digit 9: Accuracy: 950/1009 (94%)\n"
     ]
    },
    {
     "name": "stderr",
     "output_type": "stream",
     "text": [
      "100%|██████████| 938/938 [00:33<00:00, 28.28it/s, loss=1.49]\n"
     ]
    },
    {
     "name": "stdout",
     "output_type": "stream",
     "text": [
      "Epoch: 17,Test set: Avg. loss: 1.5085, Accuracy: 9600/10000 (96%)\n",
      "\n",
      "Digit 0: Accuracy: 963/980 (98%)\n",
      "Digit 1: Accuracy: 1113/1135 (98%)\n",
      "Digit 2: Accuracy: 999/1032 (97%)\n",
      "Digit 3: Accuracy: 951/1010 (94%)\n",
      "Digit 4: Accuracy: 948/982 (97%)\n",
      "Digit 5: Accuracy: 853/892 (96%)\n",
      "Digit 6: Accuracy: 929/958 (97%)\n",
      "Digit 7: Accuracy: 964/1028 (94%)\n",
      "Digit 8: Accuracy: 930/974 (95%)\n",
      "Digit 9: Accuracy: 950/1009 (94%)\n"
     ]
    },
    {
     "name": "stderr",
     "output_type": "stream",
     "text": [
      "100%|██████████| 938/938 [00:30<00:00, 30.28it/s, loss=1.59]\n"
     ]
    },
    {
     "name": "stdout",
     "output_type": "stream",
     "text": [
      "Epoch: 18,Test set: Avg. loss: 1.5095, Accuracy: 9584/10000 (96%)\n",
      "\n",
      "Digit 0: Accuracy: 971/980 (99%)\n",
      "Digit 1: Accuracy: 1113/1135 (98%)\n",
      "Digit 2: Accuracy: 999/1032 (97%)\n",
      "Digit 3: Accuracy: 943/1010 (93%)\n",
      "Digit 4: Accuracy: 945/982 (96%)\n",
      "Digit 5: Accuracy: 852/892 (96%)\n",
      "Digit 6: Accuracy: 933/958 (97%)\n",
      "Digit 7: Accuracy: 978/1028 (95%)\n",
      "Digit 8: Accuracy: 901/974 (93%)\n",
      "Digit 9: Accuracy: 949/1009 (94%)\n"
     ]
    },
    {
     "name": "stderr",
     "output_type": "stream",
     "text": [
      "100%|██████████| 938/938 [00:35<00:00, 26.65it/s, loss=1.54]\n"
     ]
    },
    {
     "name": "stdout",
     "output_type": "stream",
     "text": [
      "Epoch: 19,Test set: Avg. loss: 1.5056, Accuracy: 9620/10000 (96%)\n",
      "\n",
      "Digit 0: Accuracy: 970/980 (99%)\n",
      "Digit 1: Accuracy: 1112/1135 (98%)\n",
      "Digit 2: Accuracy: 1003/1032 (97%)\n",
      "Digit 3: Accuracy: 967/1010 (96%)\n",
      "Digit 4: Accuracy: 965/982 (98%)\n",
      "Digit 5: Accuracy: 854/892 (96%)\n",
      "Digit 6: Accuracy: 920/958 (96%)\n",
      "Digit 7: Accuracy: 985/1028 (96%)\n",
      "Digit 8: Accuracy: 910/974 (93%)\n",
      "Digit 9: Accuracy: 934/1009 (93%)\n"
     ]
    },
    {
     "name": "stderr",
     "output_type": "stream",
     "text": [
      "100%|██████████| 938/938 [00:32<00:00, 28.72it/s, loss=1.57]\n"
     ]
    },
    {
     "name": "stdout",
     "output_type": "stream",
     "text": [
      "Epoch: 20,Test set: Avg. loss: 1.5039, Accuracy: 9644/10000 (96%)\n",
      "\n",
      "Digit 0: Accuracy: 970/980 (99%)\n",
      "Digit 1: Accuracy: 1116/1135 (98%)\n",
      "Digit 2: Accuracy: 1003/1032 (97%)\n",
      "Digit 3: Accuracy: 962/1010 (95%)\n",
      "Digit 4: Accuracy: 949/982 (97%)\n",
      "Digit 5: Accuracy: 855/892 (96%)\n",
      "Digit 6: Accuracy: 936/958 (98%)\n",
      "Digit 7: Accuracy: 982/1028 (96%)\n",
      "Digit 8: Accuracy: 919/974 (94%)\n",
      "Digit 9: Accuracy: 952/1009 (94%)\n"
     ]
    },
    {
     "name": "stderr",
     "output_type": "stream",
     "text": [
      "100%|██████████| 938/938 [00:30<00:00, 30.86it/s, loss=1.52]\n"
     ]
    },
    {
     "name": "stdout",
     "output_type": "stream",
     "text": [
      "Epoch: 21,Test set: Avg. loss: 1.5044, Accuracy: 9634/10000 (96%)\n",
      "\n",
      "Digit 0: Accuracy: 971/980 (99%)\n",
      "Digit 1: Accuracy: 1111/1135 (98%)\n",
      "Digit 2: Accuracy: 1006/1032 (97%)\n",
      "Digit 3: Accuracy: 963/1010 (95%)\n",
      "Digit 4: Accuracy: 946/982 (96%)\n",
      "Digit 5: Accuracy: 865/892 (97%)\n",
      "Digit 6: Accuracy: 922/958 (96%)\n",
      "Digit 7: Accuracy: 978/1028 (95%)\n",
      "Digit 8: Accuracy: 918/974 (94%)\n",
      "Digit 9: Accuracy: 954/1009 (95%)\n"
     ]
    },
    {
     "name": "stderr",
     "output_type": "stream",
     "text": [
      "100%|██████████| 938/938 [00:33<00:00, 28.08it/s, loss=1.55]\n"
     ]
    },
    {
     "name": "stdout",
     "output_type": "stream",
     "text": [
      "Epoch: 22,Test set: Avg. loss: 1.5033, Accuracy: 9652/10000 (97%)\n",
      "\n",
      "Digit 0: Accuracy: 971/980 (99%)\n",
      "Digit 1: Accuracy: 1114/1135 (98%)\n",
      "Digit 2: Accuracy: 1011/1032 (98%)\n",
      "Digit 3: Accuracy: 964/1010 (95%)\n",
      "Digit 4: Accuracy: 935/982 (95%)\n",
      "Digit 5: Accuracy: 856/892 (96%)\n",
      "Digit 6: Accuracy: 926/958 (97%)\n",
      "Digit 7: Accuracy: 980/1028 (95%)\n",
      "Digit 8: Accuracy: 933/974 (96%)\n",
      "Digit 9: Accuracy: 962/1009 (95%)\n"
     ]
    },
    {
     "name": "stderr",
     "output_type": "stream",
     "text": [
      "100%|██████████| 938/938 [00:33<00:00, 27.82it/s, loss=1.49]\n"
     ]
    },
    {
     "name": "stdout",
     "output_type": "stream",
     "text": [
      "Epoch: 23,Test set: Avg. loss: 1.5007, Accuracy: 9669/10000 (97%)\n",
      "\n",
      "Digit 0: Accuracy: 971/980 (99%)\n",
      "Digit 1: Accuracy: 1115/1135 (98%)\n",
      "Digit 2: Accuracy: 1006/1032 (97%)\n",
      "Digit 3: Accuracy: 972/1010 (96%)\n",
      "Digit 4: Accuracy: 956/982 (97%)\n",
      "Digit 5: Accuracy: 865/892 (97%)\n",
      "Digit 6: Accuracy: 929/958 (97%)\n",
      "Digit 7: Accuracy: 984/1028 (96%)\n",
      "Digit 8: Accuracy: 911/974 (94%)\n",
      "Digit 9: Accuracy: 960/1009 (95%)\n"
     ]
    },
    {
     "name": "stderr",
     "output_type": "stream",
     "text": [
      "100%|██████████| 938/938 [00:31<00:00, 29.72it/s, loss=1.49]\n"
     ]
    },
    {
     "name": "stdout",
     "output_type": "stream",
     "text": [
      "Epoch: 24,Test set: Avg. loss: 1.5016, Accuracy: 9666/10000 (97%)\n",
      "\n",
      "Digit 0: Accuracy: 969/980 (99%)\n",
      "Digit 1: Accuracy: 1116/1135 (98%)\n",
      "Digit 2: Accuracy: 1002/1032 (97%)\n",
      "Digit 3: Accuracy: 968/1010 (96%)\n",
      "Digit 4: Accuracy: 950/982 (97%)\n",
      "Digit 5: Accuracy: 872/892 (98%)\n",
      "Digit 6: Accuracy: 931/958 (97%)\n",
      "Digit 7: Accuracy: 977/1028 (95%)\n",
      "Digit 8: Accuracy: 928/974 (95%)\n",
      "Digit 9: Accuracy: 953/1009 (94%)\n"
     ]
    },
    {
     "name": "stderr",
     "output_type": "stream",
     "text": [
      "100%|██████████| 938/938 [00:32<00:00, 29.24it/s, loss=1.53]\n"
     ]
    },
    {
     "name": "stdout",
     "output_type": "stream",
     "text": [
      "Epoch: 25,Test set: Avg. loss: 1.4998, Accuracy: 9683/10000 (97%)\n",
      "\n",
      "Digit 0: Accuracy: 974/980 (99%)\n",
      "Digit 1: Accuracy: 1118/1135 (99%)\n",
      "Digit 2: Accuracy: 993/1032 (96%)\n",
      "Digit 3: Accuracy: 962/1010 (95%)\n",
      "Digit 4: Accuracy: 955/982 (97%)\n",
      "Digit 5: Accuracy: 867/892 (97%)\n",
      "Digit 6: Accuracy: 924/958 (96%)\n",
      "Digit 7: Accuracy: 986/1028 (96%)\n",
      "Digit 8: Accuracy: 945/974 (97%)\n",
      "Digit 9: Accuracy: 959/1009 (95%)\n"
     ]
    },
    {
     "name": "stderr",
     "output_type": "stream",
     "text": [
      "100%|██████████| 938/938 [00:33<00:00, 28.20it/s, loss=1.52]\n"
     ]
    },
    {
     "name": "stdout",
     "output_type": "stream",
     "text": [
      "Epoch: 26,Test set: Avg. loss: 1.5009, Accuracy: 9672/10000 (97%)\n",
      "\n",
      "Digit 0: Accuracy: 972/980 (99%)\n",
      "Digit 1: Accuracy: 1117/1135 (98%)\n",
      "Digit 2: Accuracy: 1006/1032 (97%)\n",
      "Digit 3: Accuracy: 971/1010 (96%)\n",
      "Digit 4: Accuracy: 951/982 (97%)\n",
      "Digit 5: Accuracy: 855/892 (96%)\n",
      "Digit 6: Accuracy: 936/958 (98%)\n",
      "Digit 7: Accuracy: 992/1028 (96%)\n",
      "Digit 8: Accuracy: 919/974 (94%)\n",
      "Digit 9: Accuracy: 953/1009 (94%)\n"
     ]
    },
    {
     "name": "stderr",
     "output_type": "stream",
     "text": [
      "100%|██████████| 938/938 [00:33<00:00, 27.64it/s, loss=1.57]\n"
     ]
    },
    {
     "name": "stdout",
     "output_type": "stream",
     "text": [
      "Epoch: 27,Test set: Avg. loss: 1.4979, Accuracy: 9700/10000 (97%)\n",
      "\n",
      "Digit 0: Accuracy: 972/980 (99%)\n",
      "Digit 1: Accuracy: 1121/1135 (99%)\n",
      "Digit 2: Accuracy: 1008/1032 (98%)\n",
      "Digit 3: Accuracy: 974/1010 (96%)\n",
      "Digit 4: Accuracy: 965/982 (98%)\n",
      "Digit 5: Accuracy: 872/892 (98%)\n",
      "Digit 6: Accuracy: 935/958 (98%)\n",
      "Digit 7: Accuracy: 983/1028 (96%)\n",
      "Digit 8: Accuracy: 917/974 (94%)\n",
      "Digit 9: Accuracy: 953/1009 (94%)\n"
     ]
    },
    {
     "name": "stderr",
     "output_type": "stream",
     "text": [
      "100%|██████████| 938/938 [00:33<00:00, 28.28it/s, loss=1.49]\n"
     ]
    },
    {
     "name": "stdout",
     "output_type": "stream",
     "text": [
      "Epoch: 28,Test set: Avg. loss: 1.4972, Accuracy: 9710/10000 (97%)\n",
      "\n",
      "Digit 0: Accuracy: 970/980 (99%)\n",
      "Digit 1: Accuracy: 1116/1135 (98%)\n",
      "Digit 2: Accuracy: 1003/1032 (97%)\n",
      "Digit 3: Accuracy: 972/1010 (96%)\n",
      "Digit 4: Accuracy: 957/982 (97%)\n",
      "Digit 5: Accuracy: 875/892 (98%)\n",
      "Digit 6: Accuracy: 934/958 (97%)\n",
      "Digit 7: Accuracy: 995/1028 (97%)\n",
      "Digit 8: Accuracy: 923/974 (95%)\n",
      "Digit 9: Accuracy: 965/1009 (96%)\n"
     ]
    },
    {
     "name": "stderr",
     "output_type": "stream",
     "text": [
      "100%|██████████| 938/938 [00:31<00:00, 29.32it/s, loss=1.5] \n"
     ]
    },
    {
     "name": "stdout",
     "output_type": "stream",
     "text": [
      "Epoch: 29,Test set: Avg. loss: 1.4965, Accuracy: 9718/10000 (97%)\n",
      "\n",
      "Digit 0: Accuracy: 973/980 (99%)\n",
      "Digit 1: Accuracy: 1121/1135 (99%)\n",
      "Digit 2: Accuracy: 1013/1032 (98%)\n",
      "Digit 3: Accuracy: 981/1010 (97%)\n",
      "Digit 4: Accuracy: 965/982 (98%)\n",
      "Digit 5: Accuracy: 865/892 (97%)\n",
      "Digit 6: Accuracy: 924/958 (96%)\n",
      "Digit 7: Accuracy: 988/1028 (96%)\n",
      "Digit 8: Accuracy: 933/974 (96%)\n",
      "Digit 9: Accuracy: 955/1009 (95%)\n"
     ]
    },
    {
     "name": "stderr",
     "output_type": "stream",
     "text": [
      "100%|██████████| 938/938 [00:31<00:00, 30.11it/s, loss=1.46]\n"
     ]
    },
    {
     "name": "stdout",
     "output_type": "stream",
     "text": [
      "Epoch: 30,Test set: Avg. loss: 1.4961, Accuracy: 9721/10000 (97%)\n",
      "\n",
      "Digit 0: Accuracy: 970/980 (99%)\n",
      "Digit 1: Accuracy: 1120/1135 (99%)\n",
      "Digit 2: Accuracy: 1003/1032 (97%)\n",
      "Digit 3: Accuracy: 969/1010 (96%)\n",
      "Digit 4: Accuracy: 966/982 (98%)\n",
      "Digit 5: Accuracy: 872/892 (98%)\n",
      "Digit 6: Accuracy: 938/958 (98%)\n",
      "Digit 7: Accuracy: 987/1028 (96%)\n",
      "Digit 8: Accuracy: 933/974 (96%)\n",
      "Digit 9: Accuracy: 963/1009 (95%)\n"
     ]
    }
   ],
   "source": [
    "for epoch in range(1, n_epochs + 1):\n",
    "    train(epoch) \n",
    "    test(epoch)"
   ]
  },
  {
   "cell_type": "code",
   "execution_count": 42,
   "metadata": {},
   "outputs": [
    {
     "data": {
      "image/png": "[encoded data removed]",
      "text/plain": [
       "<Figure size 640x480 with 1 Axes>"
      ]
     },
     "metadata": {},
     "output_type": "display_data"
    }
   ],
   "source": [
    "fig = plt.figure()\n",
    "plt.plot(train_counter, train_losses, color='blue')\n",
    "plt.scatter(test_counter, test_losses, color='red')\n",
    "plt.legend(['Train Loss', 'Test Loss'], loc='upper right')\n",
    "plt.xlabel('number of training examples seen')\n",
    "plt.ylabel('negative log likelihood loss')\n",
    "plt.show()"
   ]
  },
  {
   "cell_type": "code",
   "execution_count": 43,
   "metadata": {},
   "outputs": [
    {
     "data": {
      "image/png": "[encoded data removed]",
      "text/plain": [
       "<Figure size 640x480 with 6 Axes>"
      ]
     },
     "metadata": {},
     "output_type": "display_data"
    }
   ],
   "source": [
    "#这里是验证的相关代码  可以直观的展示我们的预测结果  可以看到相关的结果预测的还是非常的准确的\n",
    "examples = enumerate(test_loader)\n",
    "batch_idx, (example_data, example_targets) = next(examples)\n",
    "with torch.no_grad():\n",
    "    output = network(example_data)\n",
    "fig = plt.figure()\n",
    "for i in range(6):\n",
    "    plt.subplot(2, 3, i + 1)\n",
    "    plt.tight_layout()\n",
    "    plt.imshow(example_data[i][0], cmap='gray', interpolation='none')\n",
    "    plt.title(\"Prediction: {}\".format(output.data.max(1, keepdim=True)[1][i].item()))\n",
    "    plt.xticks([])\n",
    "    plt.yticks([])\n",
    "plt.show()"
   ]
  }
 ],
 "metadata": {
  "kernelspec": {
   "display_name": "Python 3.8.12 ('pytorch')",
   "language": "python",
   "name": "python3"
  },
  "language_info": {
   "codemirror_mode": {
    "name": "ipython",
    "version": 3
   },
   "file_extension": ".py",
   "mimetype": "text/x-python",
   "name": "python",
   "nbconvert_exporter": "python",
   "pygments_lexer": "ipython3",
   "version": "3.9.16"
  },
  "orig_nbformat": 4,
  "vscode": {
   "interpreter": {
    "hash": "f38a9df686f17d184ba9a9def2c8287894d774a7be09f59b222696b272b9c8cc"
   }
  }
 },
 "nbformat": 4,
 "nbformat_minor": 2
}
