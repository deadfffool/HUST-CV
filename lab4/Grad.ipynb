{
 "cells": [
  {
   "cell_type": "code",
   "execution_count": 1,
   "metadata": {},
   "outputs": [],
   "source": [
    "import math\n",
    "import torch\n",
    "from torch import Tensor\n",
    "from torch import nn\n",
    "import torch.nn.functional as F\n",
    "from typing import Optional, List\n",
    "import torchvision.transforms as transforms\n",
    "from PIL import Image\n",
    "import torchvision.models as models\n",
    "from torch import Tensor\n",
    "from matplotlib import cm\n",
    "from torchvision.transforms.functional import to_pil_image\n",
    "import numpy as np\n",
    "import cv2\n"
   ]
  },
  {
   "cell_type": "code",
   "execution_count": 2,
   "metadata": {},
   "outputs": [
    {
     "name": "stdout",
     "output_type": "stream",
     "text": [
      "AlexNet(\n",
      "  (features): Sequential(\n",
      "    (0): Conv2d(3, 64, kernel_size=(11, 11), stride=(4, 4), padding=(2, 2))\n",
      "    (1): ReLU(inplace=True)\n",
      "    (2): MaxPool2d(kernel_size=3, stride=2, padding=0, dilation=1, ceil_mode=False)\n",
      "    (3): Conv2d(64, 192, kernel_size=(5, 5), stride=(1, 1), padding=(2, 2))\n",
      "    (4): ReLU(inplace=True)\n",
      "    (5): MaxPool2d(kernel_size=3, stride=2, padding=0, dilation=1, ceil_mode=False)\n",
      "    (6): Conv2d(192, 384, kernel_size=(3, 3), stride=(1, 1), padding=(1, 1))\n",
      "    (7): ReLU(inplace=True)\n",
      "    (8): Conv2d(384, 256, kernel_size=(3, 3), stride=(1, 1), padding=(1, 1))\n",
      "    (9): ReLU(inplace=True)\n",
      "    (10): Conv2d(256, 256, kernel_size=(3, 3), stride=(1, 1), padding=(1, 1))\n",
      "    (11): ReLU(inplace=True)\n",
      "    (12): MaxPool2d(kernel_size=3, stride=2, padding=0, dilation=1, ceil_mode=False)\n",
      "  )\n",
      "  (avgpool): AdaptiveAvgPool2d(output_size=(6, 6))\n",
      "  (classifier): Sequential(\n",
      "    (0): Dropout(p=0.5, inplace=False)\n",
      "    (1): Linear(in_features=9216, out_features=4096, bias=True)\n",
      "    (2): ReLU(inplace=True)\n",
      "    (3): Dropout(p=0.5, inplace=False)\n",
      "    (4): Linear(in_features=4096, out_features=4096, bias=True)\n",
      "    (5): ReLU(inplace=True)\n",
      "    (6): Linear(in_features=4096, out_features=2, bias=True)\n",
      "  )\n",
      ")\n"
     ]
    }
   ],
   "source": [
    "path = \"both.jpg\"     \n",
    "raw_img = cv2.imread(\"./data/\"+path)\n",
    "preprocess = transforms.ToTensor()\n",
    "img = preprocess(raw_img)\n",
    "img = torch.unsqueeze(img, 0)\n",
    "(_,_,W,H)=img.size()\n",
    "\n",
    "model = torch.load('torch_alex.pth')\n",
    "print(model)"
   ]
  },
  {
   "cell_type": "code",
   "execution_count": 3,
   "metadata": {},
   "outputs": [
    {
     "data": {
      "text/plain": [
       "<torch.utils.hooks.RemovableHandle at 0x14accc430>"
      ]
     },
     "execution_count": 3,
     "metadata": {},
     "output_type": "execute_result"
    }
   ],
   "source": [
    "grad_block = []\t# 存放grad图\n",
    "feaure_block = []\t# 存放特征图\n",
    "\n",
    "# 获取梯度的函数\n",
    "def backward_hook(module, grad_in, grad_out):\n",
    "    grad_block.append(grad_out[0].detach())\n",
    "\n",
    "# 获取特征层的函数\n",
    "def farward_hook(module, input, output):\n",
    "    feaure_block.append(output)\n",
    "\n",
    "\n",
    "# layer_name=model.features[18][1]\n",
    "model.features.register_forward_hook(farward_hook)\n",
    "model.features.register_full_backward_hook(backward_hook)"
   ]
  },
  {
   "cell_type": "code",
   "execution_count": 4,
   "metadata": {},
   "outputs": [],
   "source": [
    "# 已知原图、梯度、特征图，开始计算可视化图\n",
    "def cam_show_img(img, feature_map, grads):\n",
    "    cam = np.zeros(feature_map.shape[1:], dtype=np.float32)  # 二维，用于叠加\n",
    "    grads = grads.reshape([grads.shape[0], -1])\n",
    "    # 梯度图中，每个通道计算均值得到一个值，作为对应特征图通道的权重\n",
    "    weights = np.mean(grads, axis=1)\t\n",
    "    for i, w in enumerate(weights):\n",
    "        cam += w * feature_map[i, :, :]\t# 特征图加权和\n",
    "    cam = np.maximum(cam, 0)\n",
    "    cam = cam / cam.max()\n",
    "    cam = cv2.resize(cam, (W, H))\n",
    "\n",
    "    # cam.dim=2 heatmap.dim=3\n",
    "    heatmap = cv2.applyColorMap(np.uint8(255 * cam), cv2.COLORMAP_JET)\t# 伪彩色\n",
    "\n",
    "    # print(heatmap.shape)\n",
    "    # print(img.size)\n",
    "\n",
    "    cam_img = 0.3 * heatmap + 0.7 * img\n",
    "\n",
    "    cv2.imwrite(\"./out/\"+path, cam_img)\n"
   ]
  },
  {
   "cell_type": "code",
   "execution_count": 5,
   "metadata": {},
   "outputs": [
    {
     "name": "stdout",
     "output_type": "stream",
     "text": [
      "torch.Size([1, 256, 6, 6])\n"
     ]
    }
   ],
   "source": [
    "\n",
    "# forward \n",
    "# 在前向推理时，会生成特征图和预测值\n",
    "output = model(img)\n",
    "max_idx = np.argmax(output.data.numpy())\n",
    "\n",
    "# backward\n",
    "model.zero_grad()\n",
    "# 取最大类别的值作为loss，这样计算的结果是模型对该类最感兴趣的cam图\n",
    "class_loss = output[0, max_idx]\t\n",
    "class_loss.backward()\t# 反向梯度，得到梯度图\n",
    "\n",
    "# grads\n",
    "print(grad_block[0].shape)\n",
    "grads_val = grad_block[0].data.numpy().squeeze()\n",
    "fmap = feaure_block[0].data.numpy().squeeze()\n",
    "\n",
    "# save cam\n",
    "cam_show_img(raw_img, fmap, grads_val)\n"
   ]
  }
 ],
 "metadata": {
  "kernelspec": {
   "display_name": "pytorch",
   "language": "python",
   "name": "python3"
  },
  "language_info": {
   "codemirror_mode": {
    "name": "ipython",
    "version": 3
   },
   "file_extension": ".py",
   "mimetype": "text/x-python",
   "name": "python",
   "nbconvert_exporter": "python",
   "pygments_lexer": "ipython3",
   "version": "3.9.16"
  }
 },
 "nbformat": 4,
 "nbformat_minor": 2
}
