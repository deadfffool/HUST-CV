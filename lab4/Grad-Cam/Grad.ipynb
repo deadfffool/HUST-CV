{
 "cells": [
  {
   "cell_type": "code",
   "execution_count": 1,
   "metadata": {},
   "outputs": [],
   "source": [
    "import math\n",
    "import torch\n",
    "from torch import Tensor\n",
    "from torch import nn\n",
    "import torch.nn.functional as F\n",
    "from typing import Optional, List\n",
    "import torchvision.transforms as transforms\n",
    "from PIL import Image\n",
    "import torchvision.models as models\n",
    "from torch import Tensor\n",
    "from matplotlib import cm\n",
    "from torchvision.transforms.functional import to_pil_image\n",
    "import numpy as np\n",
    "import cv2\n",
    "from torchsummary import summary"
   ]
  },
  {
   "cell_type": "code",
   "execution_count": 5,
   "metadata": {},
   "outputs": [
    {
     "name": "stdout",
     "output_type": "stream",
     "text": [
      "----------------------------------------------------------------\n",
      "        Layer (type)               Output Shape         Param #\n",
      "================================================================\n",
      "            Conv2d-1           [-1, 64, 55, 55]          23,296\n",
      "              ReLU-2           [-1, 64, 55, 55]               0\n",
      "         MaxPool2d-3           [-1, 64, 27, 27]               0\n",
      "            Conv2d-4          [-1, 192, 27, 27]         307,392\n",
      "              ReLU-5          [-1, 192, 27, 27]               0\n",
      "         MaxPool2d-6          [-1, 192, 13, 13]               0\n",
      "            Conv2d-7          [-1, 384, 13, 13]         663,936\n",
      "              ReLU-8          [-1, 384, 13, 13]               0\n",
      "            Conv2d-9          [-1, 256, 13, 13]         884,992\n",
      "             ReLU-10          [-1, 256, 13, 13]               0\n",
      "           Conv2d-11          [-1, 256, 13, 13]         590,080\n",
      "             ReLU-12          [-1, 256, 13, 13]               0\n",
      "        MaxPool2d-13            [-1, 256, 6, 6]               0\n",
      "AdaptiveAvgPool2d-14            [-1, 256, 6, 6]               0\n",
      "          Dropout-15                 [-1, 9216]               0\n",
      "           Linear-16                 [-1, 4096]      37,752,832\n",
      "             ReLU-17                 [-1, 4096]               0\n",
      "          Dropout-18                 [-1, 4096]               0\n",
      "           Linear-19                 [-1, 4096]      16,781,312\n",
      "             ReLU-20                 [-1, 4096]               0\n",
      "           Linear-21                    [-1, 2]           8,194\n",
      "================================================================\n",
      "Total params: 57,012,034\n",
      "Trainable params: 57,012,034\n",
      "Non-trainable params: 0\n",
      "----------------------------------------------------------------\n",
      "Input size (MB): 0.57\n",
      "Forward/backward pass size (MB): 8.37\n",
      "Params size (MB): 217.48\n",
      "Estimated Total Size (MB): 226.43\n",
      "----------------------------------------------------------------\n"
     ]
    }
   ],
   "source": [
    "path = \"both.jpg\"     \n",
    "raw_img = cv2.imread(\"./data/\"+path)\n",
    "preprocess = transforms.ToTensor()\n",
    "img = preprocess(raw_img)\n",
    "img = torch.unsqueeze(img, 0)\n",
    "(_,channel,W,H)=img.size()\n",
    "\n",
    "model = torch.load('torch_alex.pth')\n",
    "summary(model,(channel,W,H))"
   ]
  },
  {
   "cell_type": "code",
   "execution_count": 3,
   "metadata": {},
   "outputs": [
    {
     "data": {
      "text/plain": [
       "<torch.utils.hooks.RemovableHandle at 0x14accc430>"
      ]
     },
     "execution_count": 3,
     "metadata": {},
     "output_type": "execute_result"
    }
   ],
   "source": [
    "grad_block = []\t# 存放grad图\n",
    "feaure_block = []\t# 存放特征图\n",
    "\n",
    "# 获取梯度的函数\n",
    "def backward_hook(module, grad_in, grad_out):\n",
    "    grad_block.append(grad_out[0].detach())\n",
    "\n",
    "# 获取特征层的函数\n",
    "def farward_hook(module, input, output):\n",
    "    feaure_block.append(output)\n",
    "\n",
    "\n",
    "# layer_name=model.features[18][1]\n",
    "model.features.register_forward_hook(farward_hook)\n",
    "model.features.register_full_backward_hook(backward_hook)"
   ]
  },
  {
   "cell_type": "code",
   "execution_count": 4,
   "metadata": {},
   "outputs": [],
   "source": [
    "# 已知原图、梯度、特征图，开始计算可视化图\n",
    "def cam_show_img(img, feature_map, grads):\n",
    "    cam = np.zeros(feature_map.shape[1:], dtype=np.float32)  # 二维，用于叠加\n",
    "    grads = grads.reshape([grads.shape[0], -1])\n",
    "    # 梯度图中，每个通道计算均值得到一个值，作为对应特征图通道的权重\n",
    "    weights = np.mean(grads, axis=1)\t\n",
    "    for i, w in enumerate(weights):\n",
    "        cam += w * feature_map[i, :, :]\t# 特征图加权和\n",
    "    cam = np.maximum(cam, 0)\n",
    "    cam = cam / cam.max()\n",
    "    cam = cv2.resize(cam, (W, H))\n",
    "\n",
    "    # cam.dim=2 heatmap.dim=3\n",
    "    heatmap = cv2.applyColorMap(np.uint8(255 * cam), cv2.COLORMAP_JET)\t# 伪彩色\n",
    "\n",
    "    # print(heatmap.shape)\n",
    "    # print(img.size)\n",
    "\n",
    "    cam_img = 0.3 * heatmap + 0.7 * img\n",
    "\n",
    "    cv2.imwrite(\"./out/\"+path, cam_img)\n"
   ]
  },
  {
   "cell_type": "code",
   "execution_count": 5,
   "metadata": {},
   "outputs": [
    {
     "name": "stdout",
     "output_type": "stream",
     "text": [
      "torch.Size([1, 256, 6, 6])\n"
     ]
    }
   ],
   "source": [
    "\n",
    "# forward \n",
    "# 在前向推理时，会生成特征图和预测值\n",
    "output = model(img)\n",
    "max_idx = np.argmax(output.data.numpy())\n",
    "\n",
    "# backward\n",
    "model.zero_grad()\n",
    "# 取最大类别的值作为loss，这样计算的结果是模型对该类最感兴趣的cam图\n",
    "class_loss = output[0, max_idx]\t\n",
    "class_loss.backward()\t# 反向梯度，得到梯度图\n",
    "\n",
    "# grads\n",
    "print(grad_block[0].shape)\n",
    "grads_val = grad_block[0].data.numpy().squeeze()\n",
    "fmap = feaure_block[0].data.numpy().squeeze()\n",
    "\n",
    "# save cam\n",
    "cam_show_img(raw_img, fmap, grads_val)\n"
   ]
  }
 ],
 "metadata": {
  "kernelspec": {
   "display_name": "pytorch",
   "language": "python",
   "name": "python3"
  },
  "language_info": {
   "codemirror_mode": {
    "name": "ipython",
    "version": 3
   },
   "file_extension": ".py",
   "mimetype": "text/x-python",
   "name": "python",
   "nbconvert_exporter": "python",
   "pygments_lexer": "ipython3",
   "version": "3.9.16"
  }
 },
 "nbformat": 4,
 "nbformat_minor": 2
}
