{
 "cells": [
  {
   "cell_type": "markdown",
   "metadata": {},
   "source": [
    "# One Pixel Attack for Fooling Deep Neural Networks\n",
    "An implementation of the procedure described in https://arxiv.org/abs/1710.08864."
   ]
  },
  {
   "cell_type": "markdown",
   "metadata": {},
   "source": [
    "## Setup"
   ]
  },
  {
   "cell_type": "code",
   "execution_count": 2,
   "metadata": {},
   "outputs": [],
   "source": [
    "%matplotlib inline\n",
    "import matplotlib.pyplot as plt\n",
    "import numpy as np\n",
    "import seaborn as sns\n",
    "import torch\n",
    "import torch.nn as nn\n",
    "import torch.nn.functional as F\n",
    "import torch.optim as optim\n",
    "import math\n",
    "\n",
    "from pathlib import Path\n",
    "from tensorboardX import SummaryWriter\n",
    "from torchvision import datasets, transforms, models\n",
    "from tqdm import tqdm\n",
    "\n",
    "writer = SummaryWriter()\n",
    "sns.set()\n",
    "sns.set_style(\"dark\")\n",
    "sns.set_palette(\"muted\")\n",
    "sns.set_color_codes(\"muted\")"
   ]
  },
  {
   "cell_type": "markdown",
   "metadata": {},
   "source": [
    "### CUDA"
   ]
  },
  {
   "cell_type": "code",
   "execution_count": 3,
   "metadata": {},
   "outputs": [
    {
     "name": "stdout",
     "output_type": "stream",
     "text": [
      "CUDA Available: True\n"
     ]
    }
   ],
   "source": [
    "DEVICE = torch.device(\"cuda\" if torch.cuda.is_available() else \"cpu\")\n",
    "LOADER_KWARGS = {'num_workers': 1, 'pin_memory': True} if torch.cuda.is_available() else {'num_workers': 4}\n",
    "print(\"CUDA Available:\", torch.cuda.is_available())"
   ]
  },
  {
   "cell_type": "markdown",
   "metadata": {},
   "source": [
    "## Train CIFAR VGG16 Model"
   ]
  },
  {
   "cell_type": "markdown",
   "metadata": {},
   "source": [
    "### Model Definition"
   ]
  },
  {
   "cell_type": "code",
   "execution_count": 4,
   "metadata": {},
   "outputs": [
    {
     "name": "stderr",
     "output_type": "stream",
     "text": [
      "Downloading: \"https://download.pytorch.org/models/vgg11-8a719046.pth\" to C:\\Users\\deadf/.cache\\torch\\hub\\checkpoints\\vgg11-8a719046.pth\n"
     ]
    },
    {
     "data": {
      "application/vnd.jupyter.widget-view+json": {
       "model_id": "92d0d5619d2f4405bf32c099853cbe67",
       "version_major": 2,
       "version_minor": 0
      },
      "text/plain": [
       "  0%|          | 0.00/507M [00:00<?, ?B/s]"
      ]
     },
     "metadata": {},
     "output_type": "display_data"
    },
    {
     "name": "stdout",
     "output_type": "stream",
     "text": [
      "VGG(\n",
      "  (features): Sequential(\n",
      "    (0): Conv2d(3, 64, kernel_size=(3, 3), stride=(1, 1), padding=(1, 1))\n",
      "    (1): ReLU(inplace=True)\n",
      "    (2): MaxPool2d(kernel_size=2, stride=2, padding=0, dilation=1, ceil_mode=False)\n",
      "    (3): Conv2d(64, 128, kernel_size=(3, 3), stride=(1, 1), padding=(1, 1))\n",
      "    (4): ReLU(inplace=True)\n",
      "    (5): MaxPool2d(kernel_size=2, stride=2, padding=0, dilation=1, ceil_mode=False)\n",
      "    (6): Conv2d(128, 256, kernel_size=(3, 3), stride=(1, 1), padding=(1, 1))\n",
      "    (7): ReLU(inplace=True)\n",
      "    (8): Conv2d(256, 256, kernel_size=(3, 3), stride=(1, 1), padding=(1, 1))\n",
      "    (9): ReLU(inplace=True)\n",
      "    (10): MaxPool2d(kernel_size=2, stride=2, padding=0, dilation=1, ceil_mode=False)\n",
      "    (11): Conv2d(256, 512, kernel_size=(3, 3), stride=(1, 1), padding=(1, 1))\n",
      "    (12): ReLU(inplace=True)\n",
      "    (13): Conv2d(512, 512, kernel_size=(3, 3), stride=(1, 1), padding=(1, 1))\n",
      "    (14): ReLU(inplace=True)\n",
      "    (15): MaxPool2d(kernel_size=2, stride=2, padding=0, dilation=1, ceil_mode=False)\n",
      "    (16): Conv2d(512, 512, kernel_size=(3, 3), stride=(1, 1), padding=(1, 1))\n",
      "    (17): ReLU(inplace=True)\n",
      "    (18): Conv2d(512, 512, kernel_size=(3, 3), stride=(1, 1), padding=(1, 1))\n",
      "    (19): ReLU(inplace=True)\n",
      "    (20): MaxPool2d(kernel_size=2, stride=2, padding=0, dilation=1, ceil_mode=False)\n",
      "  )\n",
      "  (avgpool): AdaptiveAvgPool2d(output_size=(7, 7))\n",
      "  (classifier): Sequential(\n",
      "    (0): Linear(in_features=25088, out_features=4096, bias=True)\n",
      "    (1): ReLU(inplace=True)\n",
      "    (2): Dropout(p=0.5, inplace=False)\n",
      "    (3): Linear(in_features=4096, out_features=2048, bias=True)\n",
      "    (4): ReLU(inplace=True)\n",
      "    (5): Dropout(p=0.5, inplace=False)\n",
      "    (6): Linear(in_features=2048, out_features=10, bias=True)\n",
      "  )\n",
      ")\n"
     ]
    }
   ],
   "source": [
    "cifar_model = models.vgg11(pretrained=True, init_weights=False)\n",
    "cifar_model.classifier = nn.Sequential(\n",
    "        nn.Linear(25088, 4096),\n",
    "        nn.ReLU(True),\n",
    "        nn.Dropout(),\n",
    "        nn.Linear(4096, 2048),\n",
    "        nn.ReLU(True),\n",
    "        nn.Dropout(),\n",
    "        nn.Linear(2048, 10),\n",
    "    )\n",
    "cifar_model = cifar_model.to(DEVICE)\n",
    "print(cifar_model)"
   ]
  },
  {
   "cell_type": "markdown",
   "metadata": {},
   "source": [
    "### Dataloading"
   ]
  },
  {
   "cell_type": "code",
   "execution_count": 5,
   "metadata": {},
   "outputs": [
    {
     "name": "stdout",
     "output_type": "stream",
     "text": [
      "Files already downloaded and verified\n",
      "Files already downloaded and verified\n",
      "Files already downloaded and verified\n"
     ]
    }
   ],
   "source": [
    "BATCH_SIZE = 128\n",
    "TRAIN_COUNT = 40_000\n",
    "VAL_COUNT = 10_000\n",
    "TEST_COUNT = 10_000\n",
    "\n",
    "train_transform = transforms.Compose([\n",
    "    transforms.RandomHorizontalFlip(),\n",
    "    transforms.ToTensor(),\n",
    "])\n",
    "\n",
    "test_transform = transforms.ToTensor()\n",
    "\n",
    "train_set = datasets.CIFAR10(root='./dataset', train=True, download=True, transform=train_transform)\n",
    "train_set = torch.utils.data.dataset.Subset(train_set, range(0,TRAIN_COUNT))\n",
    "train_loader = torch.utils.data.DataLoader(train_set, batch_size=BATCH_SIZE, shuffle=True, **LOADER_KWARGS)\n",
    "\n",
    "val_set = datasets.CIFAR10(root='./dataset', train=True, download=True, transform=test_transform)\n",
    "val_set = torch.utils.data.dataset.Subset(val_set, range(TRAIN_COUNT,TRAIN_COUNT+VAL_COUNT))\n",
    "val_loader = torch.utils.data.DataLoader(val_set, batch_size=BATCH_SIZE, shuffle=False, **LOADER_KWARGS)\n",
    "\n",
    "test_set = datasets.CIFAR10(root='./dataset', train=False, download=True, transform=test_transform)\n",
    "test_loader = torch.utils.data.DataLoader(test_set, batch_size=BATCH_SIZE, shuffle=False, **LOADER_KWARGS)"
   ]
  },
  {
   "cell_type": "markdown",
   "metadata": {},
   "source": [
    "### Test and Validation Function"
   ]
  },
  {
   "cell_type": "code",
   "execution_count": 6,
   "metadata": {},
   "outputs": [],
   "source": [
    "def test(epoch=None, is_validation=False):\n",
    "    cifar_model.eval()\n",
    "    loader = val_loader if is_validation else test_loader\n",
    "    test_loss = 0\n",
    "    test_correct = 0\n",
    "    with torch.no_grad():\n",
    "        for batch_idx, (inputs, targets) in enumerate(loader):\n",
    "            inputs, targets = inputs.to(DEVICE), targets.to(DEVICE)\n",
    "            outputs = cifar_model(inputs)\n",
    "            test_loss += F.cross_entropy(outputs, targets, size_average=False).item()\n",
    "            test_correct += outputs.max(1)[1].eq(targets).sum().item()\n",
    "    if is_validation:\n",
    "        writer.add_scalar('logs/val_loss', test_loss/len(loader.dataset), epoch)\n",
    "        writer.add_scalar('logs/val_acc', test_correct/len(loader.dataset), epoch)\n",
    "    else:\n",
    "        print(\"Test Accuracy: {}/{}\".format(test_correct, len(loader.dataset)))"
   ]
  },
  {
   "cell_type": "markdown",
   "metadata": {},
   "source": [
    "### Train Function"
   ]
  },
  {
   "cell_type": "code",
   "execution_count": 7,
   "metadata": {},
   "outputs": [],
   "source": [
    "optimizer = optim.Adam(cifar_model.classifier.parameters())\n",
    "\n",
    "# Training\n",
    "def train(epoch):\n",
    "    cifar_model.train()\n",
    "    epoch_loss = 0\n",
    "    epoch_correct = 0\n",
    "    for batch_idx, (inputs, targets) in enumerate(tqdm(train_loader)):\n",
    "        inputs, targets = inputs.to(DEVICE), targets.to(DEVICE)\n",
    "        optimizer.zero_grad()\n",
    "        outputs = cifar_model(inputs)\n",
    "        loss = F.cross_entropy(outputs, targets)\n",
    "        loss.backward()\n",
    "        optimizer.step()\n",
    "        batch_correct = outputs.max(1)[1].eq(targets).sum().item()\n",
    "        epoch_loss += loss.item()\n",
    "        epoch_correct += batch_correct\n",
    "        writer.add_scalar('logs/train_loss', loss.item(), epoch*len(train_loader) + batch_idx)\n",
    "        writer.add_scalar('logs/train_acc', batch_correct / targets.size(0), epoch*len(train_loader) + batch_idx)\n",
    "    test(epoch, is_validation=True)"
   ]
  },
  {
   "cell_type": "markdown",
   "metadata": {},
   "source": [
    "### Train Model and Store Weights (or Load Weights)"
   ]
  },
  {
   "cell_type": "code",
   "execution_count": 8,
   "metadata": {},
   "outputs": [
    {
     "name": "stderr",
     "output_type": "stream",
     "text": [
      "100%|██████████| 313/313 [00:20<00:00, 15.27it/s]\n",
      "c:\\Users\\deadf\\anaconda3\\envs\\pytorch\\lib\\site-packages\\torch\\nn\\_reduction.py:42: UserWarning: size_average and reduce args will be deprecated, please use reduction='sum' instead.\n",
      "  warnings.warn(warning.format(ret))\n",
      "100%|██████████| 313/313 [00:15<00:00, 20.60it/s]\n",
      "100%|██████████| 313/313 [00:15<00:00, 20.66it/s]\n",
      "100%|██████████| 313/313 [00:15<00:00, 20.64it/s]\n",
      "100%|██████████| 313/313 [00:15<00:00, 20.39it/s]\n",
      "100%|██████████| 313/313 [00:15<00:00, 19.73it/s]\n",
      "100%|██████████| 313/313 [00:15<00:00, 19.74it/s]\n",
      "100%|██████████| 313/313 [00:15<00:00, 19.92it/s]\n",
      "100%|██████████| 313/313 [00:15<00:00, 20.55it/s]\n",
      "100%|██████████| 313/313 [00:15<00:00, 20.58it/s]\n",
      "100%|██████████| 313/313 [00:15<00:00, 20.27it/s]\n",
      "100%|██████████| 313/313 [00:15<00:00, 20.56it/s]\n",
      "100%|██████████| 313/313 [00:15<00:00, 20.44it/s]\n",
      "100%|██████████| 313/313 [00:15<00:00, 20.65it/s]\n",
      "100%|██████████| 313/313 [00:15<00:00, 20.52it/s]\n",
      "100%|██████████| 313/313 [00:15<00:00, 20.66it/s]\n",
      "100%|██████████| 313/313 [00:15<00:00, 20.82it/s]\n",
      "100%|██████████| 313/313 [00:14<00:00, 20.89it/s]\n",
      "100%|██████████| 313/313 [00:15<00:00, 20.78it/s]\n",
      "100%|██████████| 313/313 [00:15<00:00, 20.66it/s]\n",
      "100%|██████████| 313/313 [00:15<00:00, 20.74it/s]\n",
      "100%|██████████| 313/313 [00:15<00:00, 20.68it/s]\n",
      "100%|██████████| 313/313 [00:15<00:00, 20.59it/s]\n",
      "100%|██████████| 313/313 [00:15<00:00, 20.24it/s]\n",
      "100%|██████████| 313/313 [00:15<00:00, 20.69it/s]\n",
      "100%|██████████| 313/313 [00:15<00:00, 20.26it/s]\n",
      "100%|██████████| 313/313 [00:15<00:00, 20.40it/s]\n",
      "100%|██████████| 313/313 [00:15<00:00, 20.57it/s]\n",
      "100%|██████████| 313/313 [00:15<00:00, 20.15it/s]\n",
      "100%|██████████| 313/313 [00:15<00:00, 20.12it/s]\n",
      "100%|██████████| 313/313 [00:15<00:00, 20.19it/s]\n",
      "100%|██████████| 313/313 [00:15<00:00, 20.05it/s]\n",
      "100%|██████████| 313/313 [00:15<00:00, 20.33it/s]\n",
      "100%|██████████| 313/313 [00:15<00:00, 20.31it/s]\n",
      "100%|██████████| 313/313 [00:15<00:00, 19.89it/s]\n",
      "100%|██████████| 313/313 [00:15<00:00, 20.40it/s]\n",
      "100%|██████████| 313/313 [00:15<00:00, 20.21it/s]\n",
      "100%|██████████| 313/313 [00:15<00:00, 20.23it/s]\n",
      "100%|██████████| 313/313 [00:15<00:00, 20.27it/s]\n",
      "100%|██████████| 313/313 [00:15<00:00, 20.14it/s]\n",
      "100%|██████████| 313/313 [00:16<00:00, 19.49it/s]\n",
      "100%|██████████| 313/313 [00:15<00:00, 20.55it/s]\n",
      "100%|██████████| 313/313 [00:15<00:00, 19.83it/s]\n",
      "100%|██████████| 313/313 [00:15<00:00, 19.65it/s]\n",
      "100%|██████████| 313/313 [00:15<00:00, 20.09it/s]\n",
      "100%|██████████| 313/313 [00:16<00:00, 19.10it/s]\n",
      "100%|██████████| 313/313 [00:15<00:00, 19.58it/s]\n",
      "100%|██████████| 313/313 [00:15<00:00, 20.10it/s]\n",
      "100%|██████████| 313/313 [00:15<00:00, 20.13it/s]\n",
      "100%|██████████| 313/313 [00:15<00:00, 20.30it/s]\n",
      "100%|██████████| 313/313 [00:15<00:00, 20.26it/s]\n",
      "100%|██████████| 313/313 [00:15<00:00, 19.94it/s]\n",
      "100%|██████████| 313/313 [00:15<00:00, 20.46it/s]\n",
      "100%|██████████| 313/313 [00:15<00:00, 20.62it/s]\n",
      "100%|██████████| 313/313 [00:15<00:00, 20.73it/s]\n",
      "100%|██████████| 313/313 [00:15<00:00, 20.64it/s]\n",
      "100%|██████████| 313/313 [00:15<00:00, 20.72it/s]\n",
      "100%|██████████| 313/313 [00:15<00:00, 20.11it/s]\n",
      "100%|██████████| 313/313 [00:15<00:00, 20.51it/s]\n",
      "100%|██████████| 313/313 [00:15<00:00, 20.32it/s]\n",
      "100%|██████████| 313/313 [00:15<00:00, 20.74it/s]\n",
      "100%|██████████| 313/313 [00:15<00:00, 20.57it/s]\n",
      "100%|██████████| 313/313 [00:15<00:00, 20.34it/s]\n",
      "100%|██████████| 313/313 [00:15<00:00, 20.63it/s]\n",
      "100%|██████████| 313/313 [00:15<00:00, 20.28it/s]\n",
      "100%|██████████| 313/313 [00:15<00:00, 20.64it/s]\n",
      "100%|██████████| 313/313 [00:15<00:00, 20.60it/s]\n",
      "100%|██████████| 313/313 [00:15<00:00, 20.74it/s]\n",
      "100%|██████████| 313/313 [00:15<00:00, 20.55it/s]\n",
      "100%|██████████| 313/313 [00:15<00:00, 20.53it/s]\n",
      "100%|██████████| 313/313 [00:15<00:00, 20.47it/s]\n",
      "100%|██████████| 313/313 [00:15<00:00, 20.18it/s]\n",
      "100%|██████████| 313/313 [00:15<00:00, 20.51it/s]\n",
      "100%|██████████| 313/313 [00:15<00:00, 20.65it/s]\n",
      "100%|██████████| 313/313 [00:14<00:00, 20.87it/s]\n",
      "100%|██████████| 313/313 [00:15<00:00, 20.20it/s]\n",
      "100%|██████████| 313/313 [00:15<00:00, 19.93it/s]\n",
      "100%|██████████| 313/313 [00:15<00:00, 19.98it/s]\n",
      "100%|██████████| 313/313 [00:15<00:00, 20.10it/s]\n",
      "100%|██████████| 313/313 [00:15<00:00, 20.16it/s]\n",
      "100%|██████████| 313/313 [00:15<00:00, 20.02it/s]\n",
      "100%|██████████| 313/313 [00:15<00:00, 20.57it/s]\n",
      "100%|██████████| 313/313 [00:15<00:00, 20.71it/s]\n",
      "100%|██████████| 313/313 [00:15<00:00, 20.30it/s]\n",
      "100%|██████████| 313/313 [00:15<00:00, 20.56it/s]\n",
      "100%|██████████| 313/313 [00:15<00:00, 20.21it/s]\n",
      "100%|██████████| 313/313 [00:15<00:00, 20.22it/s]\n",
      "100%|██████████| 313/313 [00:15<00:00, 20.29it/s]\n",
      "100%|██████████| 313/313 [00:15<00:00, 20.34it/s]\n",
      "100%|██████████| 313/313 [00:15<00:00, 20.28it/s]\n",
      "100%|██████████| 313/313 [00:15<00:00, 20.46it/s]\n",
      "100%|██████████| 313/313 [00:15<00:00, 20.36it/s]\n",
      "100%|██████████| 313/313 [00:15<00:00, 20.84it/s]\n",
      "100%|██████████| 313/313 [00:15<00:00, 20.84it/s]\n",
      "100%|██████████| 313/313 [00:15<00:00, 20.55it/s]\n",
      "100%|██████████| 313/313 [00:15<00:00, 20.54it/s]\n",
      "100%|██████████| 313/313 [00:15<00:00, 20.83it/s]\n",
      "100%|██████████| 313/313 [00:15<00:00, 20.42it/s]\n",
      "100%|██████████| 313/313 [00:15<00:00, 20.64it/s]\n",
      "100%|██████████| 313/313 [00:15<00:00, 20.38it/s]\n"
     ]
    }
   ],
   "source": [
    "TRAIN_EPOCHS = 100\n",
    "WEIGHTS_PATH = Path(\"./vgg_cifar_weights.pt\")\n",
    "\n",
    "if WEIGHTS_PATH.is_file():\n",
    "    cifar_model.load_state_dict(torch.load(WEIGHTS_PATH))\n",
    "    print(\"Loaded weights from file:\", WEIGHTS_PATH)\n",
    "else:\n",
    "    for epoch in range(TRAIN_EPOCHS):\n",
    "        train(epoch)\n",
    "    torch.save(cifar_model.state_dict(), WEIGHTS_PATH)"
   ]
  },
  {
   "cell_type": "markdown",
   "metadata": {},
   "source": [
    "### Test Model Accuracy"
   ]
  },
  {
   "cell_type": "code",
   "execution_count": 9,
   "metadata": {},
   "outputs": [
    {
     "name": "stdout",
     "output_type": "stream",
     "text": [
      "Test Accuracy: 6401/10000\n"
     ]
    }
   ],
   "source": [
    "test()"
   ]
  },
  {
   "cell_type": "markdown",
   "metadata": {},
   "source": [
    "## Attack CIFAR Model"
   ]
  },
  {
   "cell_type": "code",
   "execution_count": 10,
   "metadata": {},
   "outputs": [],
   "source": [
    "CIFAR_LABELS = ('airplane', 'automobile', 'bird', 'cat', 'deer', 'dog', 'frog', 'horse', 'ship', 'truck')\n",
    "\n",
    "def show(img):\n",
    "    npimg = img.cpu().numpy()\n",
    "    plt.imshow(np.transpose(npimg, (1,2,0)), interpolation='nearest')\n",
    "\n",
    "def tell(img, label, model, target_label=None):\n",
    "    print(\"True Label:\", CIFAR_LABELS[label], label)\n",
    "    print(\"Prediction:\", CIFAR_LABELS[model(img.unsqueeze(0)).max(-1)[1]], model(img.unsqueeze(0)).max(-1)[1][0].item())\n",
    "    print(\"Label Probabilities:\", F.softmax(model(img.unsqueeze(0)).squeeze(), dim=0))\n",
    "    print(\"True Label Probability:\", F.softmax(model(img.unsqueeze(0)).squeeze(), dim=0)[label].item())\n",
    "    if target_label is not None:\n",
    "        print(\"Target Label Probability:\", F.softmax(model(img.unsqueeze(0)).squeeze(), dim=0)[target_label].item())"
   ]
  },
  {
   "cell_type": "markdown",
   "metadata": {},
   "source": [
    "### Prediction"
   ]
  },
  {
   "cell_type": "code",
   "execution_count": 11,
   "metadata": {},
   "outputs": [
    {
     "name": "stdout",
     "output_type": "stream",
     "text": [
      "True Label: truck 9\n",
      "Prediction: truck 9\n",
      "Label Probabilities: tensor([6.2412e-08, 3.1746e-05, 1.1975e-16, 5.4310e-13, 1.1331e-16, 8.2030e-16,\n",
      "        3.0445e-22, 1.3908e-11, 3.1622e-07, 9.9997e-01], device='cuda:0',\n",
      "       grad_fn=<SoftmaxBackward0>)\n",
      "True Label Probability: 0.9999679327011108\n"
     ]
    },
    {
     "data": {
      "image/png": "[encoded data removed]",
      "text/plain": [
       "<Figure size 432x288 with 1 Axes>"
      ]
     },
     "metadata": {},
     "output_type": "display_data"
    }
   ],
   "source": [
    "test_img, test_label = test_set[350]\n",
    "test_img = test_img.to(DEVICE)\n",
    "show(test_img)\n",
    "tell(test_img, test_label, cifar_model)"
   ]
  },
  {
   "cell_type": "markdown",
   "metadata": {},
   "source": [
    "### Perturbation"
   ]
  },
  {
   "cell_type": "code",
   "execution_count": 12,
   "metadata": {},
   "outputs": [
    {
     "name": "stdout",
     "output_type": "stream",
     "text": [
      "Perturbation: [0.6  0.6  0.   0.   0.75]\n",
      "True Label: truck 9\n",
      "Prediction: truck 9\n",
      "Label Probabilities: tensor([2.6588e-08, 8.3749e-06, 1.7446e-17, 2.0132e-13, 5.6586e-17, 1.8601e-16,\n",
      "        2.0406e-23, 4.3589e-12, 1.9776e-07, 9.9999e-01], device='cuda:0',\n",
      "       grad_fn=<SoftmaxBackward0>)\n",
      "True Label Probability: 0.9999914169311523\n"
     ]
    },
    {
     "data": {
      "image/png": "[encoded data removed]",
      "text/plain": [
       "<Figure size 432x288 with 1 Axes>"
      ]
     },
     "metadata": {},
     "output_type": "display_data"
    }
   ],
   "source": [
    "def perturb(p, img):\n",
    "    # Elements of p should be in range [0,1]\n",
    "    img_size = img.size(1) # C x _H_ x W, assume H == W\n",
    "    p_img = img.clone()\n",
    "    xy = (p[0:2].copy() * img_size).astype(int)\n",
    "    xy = np.clip(xy, 0, img_size-1)\n",
    "    rgb = p[2:5].copy()\n",
    "    rgb = np.clip(rgb, 0, 1)\n",
    "    p_img[:,xy[0],xy[1]] = torch.from_numpy(rgb)\n",
    "    return p_img\n",
    "\n",
    "def visualize_perturbation(p, img, label, model, target_label=None):\n",
    "    p_img = perturb(p, img)\n",
    "    print(\"Perturbation:\", p)\n",
    "    show(p_img)\n",
    "    tell(p_img, label, model, target_label)\n",
    "\n",
    "visualize_perturbation(np.array([0.6,0.6,0,0,0.75]), test_img, test_label, cifar_model)"
   ]
  },
  {
   "cell_type": "markdown",
   "metadata": {},
   "source": [
    "### Untargeted and Targeted Attacks"
   ]
  },
  {
   "cell_type": "code",
   "execution_count": 14,
   "metadata": {},
   "outputs": [
    {
     "name": "stdout",
     "output_type": "stream",
     "text": [
      "Target Probability [Iteration 0]: 0.9531249403953552\n",
      "Target Probability [Iteration 10]: 0.9531249403953552\n",
      "Target Probability [Iteration 20]: 0.9338660836219788\n",
      "Target Probability [Iteration 30]: 0.9032151699066162\n",
      "Target Probability [Iteration 40]: 0.8882888555526733\n",
      "Target Probability [Iteration 50]: 0.8882888555526733\n",
      "Target Probability [Iteration 60]: 0.8882888555526733\n",
      "Target Probability [Iteration 70]: 0.8819152116775513\n",
      "Target Probability [Iteration 80]: 0.8819152116775513\n",
      "Target Probability [Iteration 90]: 0.8819152116775513\n",
      "Target Probability [Iteration 100]: 0.880435585975647\n",
      "Target Probability [Iteration 110]: 0.8797914981842041\n",
      "Target Probability [Iteration 120]: 0.8786770105361938\n",
      "Target Probability [Iteration 130]: 0.8777498602867126\n",
      "Target Probability [Iteration 140]: 0.8769066333770752\n",
      "Target Probability [Iteration 150]: 0.8765286803245544\n",
      "Target Probability [Iteration 160]: 0.8763085603713989\n",
      "Target Probability [Iteration 170]: 0.8761744499206543\n",
      "Target Probability [Iteration 180]: 0.8761744499206543\n",
      "Target Probability [Iteration 190]: 0.8761428594589233\n",
      "Target Probability [Iteration 200]: 0.8761428594589233\n",
      "Target Probability [Iteration 210]: 0.8761428594589233\n",
      "Target Probability [Iteration 220]: 0.8761428594589233\n",
      "Target Probability [Iteration 230]: 0.8761428594589233\n",
      "Target Probability [Iteration 240]: 0.8761428594589233\n",
      "Target Probability [Iteration 250]: 0.8761428594589233\n",
      "Target Probability [Iteration 260]: 0.8761428594589233\n",
      "Target Probability [Iteration 270]: 0.8761428594589233\n",
      "Target Probability [Iteration 280]: 0.8760930299758911\n",
      "Target Probability [Iteration 290]: 0.8760930299758911\n",
      "Perturbation: [0.11543129 0.18686846 0.99879728 0.99974005 0.99980057]\n",
      "True Label: truck 9\n",
      "Prediction: truck 9\n",
      "Label Probabilities: tensor([3.3372e-03, 7.9487e-02, 1.2143e-06, 1.0826e-05, 4.8916e-07, 3.6852e-07,\n",
      "        4.8485e-09, 6.0493e-05, 4.1009e-02, 8.7609e-01], device='cuda:0',\n",
      "       grad_fn=<SoftmaxBackward0>)\n",
      "True Label Probability: 0.8760930299758911\n"
     ]
    },
    {
     "data": {
      "image/png": "[encoded data removed]",
      "text/plain": [
       "<Figure size 432x288 with 1 Axes>"
      ]
     },
     "metadata": {},
     "output_type": "display_data"
    }
   ],
   "source": [
    "def evaluate(candidates, img, label, model):\n",
    "    preds = []\n",
    "    model.eval()\n",
    "    with torch.no_grad():\n",
    "        for i, xs in enumerate(candidates):\n",
    "            p_img = perturb(xs, img)\n",
    "            preds.append(F.softmax(model(p_img.unsqueeze(0)).squeeze(), dim=0)[label].item())\n",
    "    return np.array(preds)\n",
    "\n",
    "def evolve(candidates, F=0.5, strategy=\"clip\"):\n",
    "    gen2 = candidates.copy()\n",
    "    num_candidates = len(candidates)\n",
    "    for i in range(num_candidates):\n",
    "        x1, x2, x3 = candidates[np.random.choice(num_candidates, 3, replace=False)]\n",
    "        x_next = (x1 + F*(x2 - x3))\n",
    "        if strategy == \"clip\":\n",
    "            gen2[i] = np.clip(x_next, 0, 1)\n",
    "        elif strategy == \"resample\":\n",
    "            x_oob = np.logical_or((x_next < 0), (1 < x_next))\n",
    "            x_next[x_oob] = np.random.random(5)[x_oob]\n",
    "            gen2[i] = x_next\n",
    "    return gen2\n",
    "\n",
    "def attack(model, img, true_label, target_label=None, iters=300, pop_size=400, verbose=True):\n",
    "    # Targeted: maximize target_label if given (early stop > 50%)\n",
    "    # Untargeted: minimize true_label otherwise (early stop < 5%)\n",
    "    candidates = np.random.random((pop_size,5))\n",
    "    candidates[:,2:5] = np.clip(np.random.normal(0.5, 0.5, (pop_size, 3)), 0, 1)\n",
    "    is_targeted = target_label is not None\n",
    "    label = target_label if is_targeted else true_label\n",
    "    fitness = evaluate(candidates, img, label, model)\n",
    "    \n",
    "    def is_success():\n",
    "        return (is_targeted and fitness.max() > 0.5) or ((not is_targeted) and fitness.min() < 0.05)\n",
    "    \n",
    "    for iteration in range(iters):\n",
    "        # Early Stopping\n",
    "        if is_success():\n",
    "            break\n",
    "        if verbose and iteration%10 == 0: # Print progress\n",
    "            print(\"Target Probability [Iteration {}]:\".format(iteration), fitness.max() if is_targeted else fitness.min())\n",
    "        # Generate new candidate solutions\n",
    "        new_gen_candidates = evolve(candidates, strategy=\"resample\")\n",
    "        # Evaluate new solutions\n",
    "        new_gen_fitness = evaluate(new_gen_candidates, img, label, model)\n",
    "        # Replace old solutions with new ones where they are better\n",
    "        successors = new_gen_fitness > fitness if is_targeted else new_gen_fitness < fitness\n",
    "        candidates[successors] = new_gen_candidates[successors]\n",
    "        fitness[successors] = new_gen_fitness[successors]\n",
    "    best_idx = fitness.argmax() if is_targeted else fitness.argmin()\n",
    "    best_solution = candidates[best_idx]\n",
    "    best_score = fitness[best_idx]\n",
    "    if verbose:\n",
    "        visualize_perturbation(best_solution, img, true_label, model, target_label)\n",
    "    return is_success(), best_solution, best_score\n",
    "\n",
    "# Untargeted attack\n",
    "_ = attack(cifar_model, test_img, test_label)"
   ]
  },
  {
   "cell_type": "code",
   "execution_count": 15,
   "metadata": {},
   "outputs": [
    {
     "name": "stdout",
     "output_type": "stream",
     "text": [
      "airplane 0 False 0.001138672698289156\n",
      "automobile 1 False 0.10495683550834656\n",
      "bird 2 False 5.9044772626748454e-08\n",
      "cat 3 False 9.762346735442406e-07\n",
      "deer 4 False 1.3773056473098677e-08\n",
      "dog 5 False 2.168134827229551e-08\n",
      "frog 6 False 4.86134243971037e-10\n",
      "horse 7 False 1.3928165571996942e-05\n",
      "ship 8 False 0.02550469897687435\n",
      "truck 9 True Label\n"
     ]
    }
   ],
   "source": [
    "# Targeted attack\n",
    "# This is much harder/costlier than an untargeted attack\n",
    "# For time reasons, targeted attacks below use 20 iterations\n",
    "targeted_results = {}\n",
    "for idx in range(len(CIFAR_LABELS)):\n",
    "    if idx != test_label:\n",
    "        targeted_results[idx] = attack(cifar_model, test_img, test_label, target_label=idx, iters=20, verbose=False)\n",
    "        print(CIFAR_LABELS[idx], idx, targeted_results[idx][0], targeted_results[idx][2])\n",
    "    else:\n",
    "        print(CIFAR_LABELS[idx], idx, \"True Label\")"
   ]
  }
 ],
 "metadata": {
  "kernelspec": {
   "display_name": "Python 3.8.12 ('pytorch')",
   "language": "python",
   "name": "python3"
  },
  "language_info": {
   "codemirror_mode": {
    "name": "ipython",
    "version": 3
   },
   "file_extension": ".py",
   "mimetype": "text/x-python",
   "name": "python",
   "nbconvert_exporter": "python",
   "pygments_lexer": "ipython3",
   "version": "3.8.12"
  },
  "vscode": {
   "interpreter": {
    "hash": "f38a9df686f17d184ba9a9def2c8287894d774a7be09f59b222696b272b9c8cc"
   }
  }
 },
 "nbformat": 4,
 "nbformat_minor": 2
}
